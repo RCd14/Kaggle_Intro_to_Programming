{
 "cells": [
  {
   "cell_type": "markdown",
   "id": "714280fa",
   "metadata": {
    "papermill": {
     "duration": 0.007561,
     "end_time": "2022-09-20T18:02:25.096230",
     "exception": false,
     "start_time": "2022-09-20T18:02:25.088669",
     "status": "completed"
    },
    "tags": []
   },
   "source": [
    "**This notebook is an exercise in the [SQL](https://www.kaggle.com/learn/intro-to-sql) course.  You can reference the tutorial at [this link](https://www.kaggle.com/dansbecker/getting-started-with-sql-and-bigquery).**\n",
    "\n",
    "---\n"
   ]
  },
  {
   "cell_type": "markdown",
   "id": "599b8044",
   "metadata": {
    "papermill": {
     "duration": 0.006141,
     "end_time": "2022-09-20T18:02:25.108664",
     "exception": false,
     "start_time": "2022-09-20T18:02:25.102523",
     "status": "completed"
    },
    "tags": []
   },
   "source": [
    "# Introduction\n",
    "\n",
    "The first test of your new data exploration skills uses data describing crime in the city of Chicago.\n",
    "\n",
    "Before you get started, run the following cell. It sets up the automated feedback system to review your answers."
   ]
  },
  {
   "cell_type": "code",
   "execution_count": 1,
   "id": "2960d924",
   "metadata": {
    "execution": {
     "iopub.execute_input": "2022-09-20T18:02:25.123895Z",
     "iopub.status.busy": "2022-09-20T18:02:25.122958Z",
     "iopub.status.idle": "2022-09-20T18:02:25.883419Z",
     "shell.execute_reply": "2022-09-20T18:02:25.881818Z"
    },
    "papermill": {
     "duration": 0.771282,
     "end_time": "2022-09-20T18:02:25.886498",
     "exception": false,
     "start_time": "2022-09-20T18:02:25.115216",
     "status": "completed"
    },
    "tags": []
   },
   "outputs": [
    {
     "name": "stdout",
     "output_type": "stream",
     "text": [
      "Using Kaggle's public dataset BigQuery integration.\n",
      "Setup Complete\n"
     ]
    }
   ],
   "source": [
    "# Set up feedack system\n",
    "from learntools.core import binder\n",
    "binder.bind(globals())\n",
    "from learntools.sql.ex1 import *\n",
    "print(\"Setup Complete\")"
   ]
  },
  {
   "cell_type": "markdown",
   "id": "e6b32bcb",
   "metadata": {
    "papermill": {
     "duration": 0.006047,
     "end_time": "2022-09-20T18:02:25.899262",
     "exception": false,
     "start_time": "2022-09-20T18:02:25.893215",
     "status": "completed"
    },
    "tags": []
   },
   "source": [
    "Use the next code cell to fetch the dataset."
   ]
  },
  {
   "cell_type": "code",
   "execution_count": 2,
   "id": "49702ee4",
   "metadata": {
    "execution": {
     "iopub.execute_input": "2022-09-20T18:02:25.915410Z",
     "iopub.status.busy": "2022-09-20T18:02:25.914941Z",
     "iopub.status.idle": "2022-09-20T18:02:26.258173Z",
     "shell.execute_reply": "2022-09-20T18:02:26.256726Z"
    },
    "papermill": {
     "duration": 0.355045,
     "end_time": "2022-09-20T18:02:26.261090",
     "exception": false,
     "start_time": "2022-09-20T18:02:25.906045",
     "status": "completed"
    },
    "tags": []
   },
   "outputs": [
    {
     "name": "stdout",
     "output_type": "stream",
     "text": [
      "Using Kaggle's public dataset BigQuery integration.\n"
     ]
    }
   ],
   "source": [
    "from google.cloud import bigquery\n",
    "\n",
    "# Create a \"Client\" object\n",
    "client = bigquery.Client()\n",
    "\n",
    "# Construct a reference to the \"chicago_crime\" dataset\n",
    "dataset_ref = client.dataset(\"chicago_crime\", project=\"bigquery-public-data\")\n",
    "\n",
    "# API request - fetch the dataset\n",
    "dataset = client.get_dataset(dataset_ref)"
   ]
  },
  {
   "cell_type": "markdown",
   "id": "8049ab95",
   "metadata": {
    "papermill": {
     "duration": 0.006098,
     "end_time": "2022-09-20T18:02:26.273675",
     "exception": false,
     "start_time": "2022-09-20T18:02:26.267577",
     "status": "completed"
    },
    "tags": []
   },
   "source": [
    "# Exercises\n",
    "\n",
    "### 1) Count tables in the dataset\n",
    "\n",
    "How many tables are in the Chicago Crime dataset?"
   ]
  },
  {
   "cell_type": "code",
   "execution_count": 3,
   "id": "e84610b4",
   "metadata": {
    "execution": {
     "iopub.execute_input": "2022-09-20T18:02:26.288166Z",
     "iopub.status.busy": "2022-09-20T18:02:26.287666Z",
     "iopub.status.idle": "2022-09-20T18:02:26.588294Z",
     "shell.execute_reply": "2022-09-20T18:02:26.586632Z"
    },
    "papermill": {
     "duration": 0.311117,
     "end_time": "2022-09-20T18:02:26.591117",
     "exception": false,
     "start_time": "2022-09-20T18:02:26.280000",
     "status": "completed"
    },
    "tags": []
   },
   "outputs": [
    {
     "name": "stdout",
     "output_type": "stream",
     "text": [
      "crime\n"
     ]
    }
   ],
   "source": [
    "# Write the code you need here to figure out the answer\n",
    "tables = list(client.list_tables(dataset))\n",
    "for table in tables:  \n",
    "    print(table.table_id)"
   ]
  },
  {
   "cell_type": "code",
   "execution_count": 4,
   "id": "848dcd27",
   "metadata": {
    "execution": {
     "iopub.execute_input": "2022-09-20T18:02:26.606030Z",
     "iopub.status.busy": "2022-09-20T18:02:26.605381Z",
     "iopub.status.idle": "2022-09-20T18:02:26.614302Z",
     "shell.execute_reply": "2022-09-20T18:02:26.612895Z"
    },
    "papermill": {
     "duration": 0.019139,
     "end_time": "2022-09-20T18:02:26.616554",
     "exception": false,
     "start_time": "2022-09-20T18:02:26.597415",
     "status": "completed"
    },
    "tags": []
   },
   "outputs": [
    {
     "data": {
      "text/plain": [
       "'crime'"
      ]
     },
     "execution_count": 4,
     "metadata": {},
     "output_type": "execute_result"
    }
   ],
   "source": [
    "(table.table_id)"
   ]
  },
  {
   "cell_type": "code",
   "execution_count": 5,
   "id": "94dea250",
   "metadata": {
    "execution": {
     "iopub.execute_input": "2022-09-20T18:02:26.631218Z",
     "iopub.status.busy": "2022-09-20T18:02:26.630810Z",
     "iopub.status.idle": "2022-09-20T18:02:26.638048Z",
     "shell.execute_reply": "2022-09-20T18:02:26.636860Z"
    },
    "papermill": {
     "duration": 0.017405,
     "end_time": "2022-09-20T18:02:26.640405",
     "exception": false,
     "start_time": "2022-09-20T18:02:26.623000",
     "status": "completed"
    },
    "tags": []
   },
   "outputs": [
    {
     "data": {
      "text/plain": [
       "1"
      ]
     },
     "execution_count": 5,
     "metadata": {},
     "output_type": "execute_result"
    }
   ],
   "source": [
    "len(tables)"
   ]
  },
  {
   "cell_type": "code",
   "execution_count": 6,
   "id": "b5168b7e",
   "metadata": {
    "execution": {
     "iopub.execute_input": "2022-09-20T18:02:26.656104Z",
     "iopub.status.busy": "2022-09-20T18:02:26.655651Z",
     "iopub.status.idle": "2022-09-20T18:02:26.665553Z",
     "shell.execute_reply": "2022-09-20T18:02:26.664436Z"
    },
    "papermill": {
     "duration": 0.021057,
     "end_time": "2022-09-20T18:02:26.668259",
     "exception": false,
     "start_time": "2022-09-20T18:02:26.647202",
     "status": "completed"
    },
    "tags": []
   },
   "outputs": [
    {
     "data": {
      "application/javascript": [
       "parent.postMessage({\"jupyterEvent\": \"custom.exercise_interaction\", \"data\": {\"outcomeType\": 1, \"valueTowardsCompletion\": 0.3333333333333333, \"interactionType\": 1, \"questionType\": 1, \"questionId\": \"1_CountTables\", \"learnToolsVersion\": \"0.3.4\", \"failureMessage\": \"\", \"exceptionClass\": \"\", \"trace\": \"\"}}, \"*\")"
      ],
      "text/plain": [
       "<IPython.core.display.Javascript object>"
      ]
     },
     "metadata": {},
     "output_type": "display_data"
    },
    {
     "data": {
      "text/markdown": [
       "<span style=\"color:#33cc33\">Correct</span>"
      ],
      "text/plain": [
       "Correct"
      ]
     },
     "metadata": {},
     "output_type": "display_data"
    }
   ],
   "source": [
    "num_tables = len(tables)  # Store the answer as num_tables and then run this cell\n",
    "\n",
    "# Check your answer\n",
    "q_1.check()"
   ]
  },
  {
   "cell_type": "markdown",
   "id": "54d6430f",
   "metadata": {
    "papermill": {
     "duration": 0.007604,
     "end_time": "2022-09-20T18:02:26.683499",
     "exception": false,
     "start_time": "2022-09-20T18:02:26.675895",
     "status": "completed"
    },
    "tags": []
   },
   "source": [
    "For a hint or the solution, uncomment the appropriate line below."
   ]
  },
  {
   "cell_type": "code",
   "execution_count": 7,
   "id": "a2d22429",
   "metadata": {
    "execution": {
     "iopub.execute_input": "2022-09-20T18:02:26.700427Z",
     "iopub.status.busy": "2022-09-20T18:02:26.700008Z",
     "iopub.status.idle": "2022-09-20T18:02:26.712046Z",
     "shell.execute_reply": "2022-09-20T18:02:26.711019Z"
    },
    "papermill": {
     "duration": 0.022463,
     "end_time": "2022-09-20T18:02:26.714294",
     "exception": false,
     "start_time": "2022-09-20T18:02:26.691831",
     "status": "completed"
    },
    "tags": []
   },
   "outputs": [
    {
     "data": {
      "application/javascript": [
       "parent.postMessage({\"jupyterEvent\": \"custom.exercise_interaction\", \"data\": {\"interactionType\": 2, \"questionType\": 1, \"questionId\": \"1_CountTables\", \"learnToolsVersion\": \"0.3.4\", \"valueTowardsCompletion\": 0.0, \"failureMessage\": \"\", \"exceptionClass\": \"\", \"trace\": \"\", \"outcomeType\": 4}}, \"*\")"
      ],
      "text/plain": [
       "<IPython.core.display.Javascript object>"
      ]
     },
     "metadata": {},
     "output_type": "display_data"
    },
    {
     "data": {
      "text/markdown": [
       "<span style=\"color:#3366cc\">Hint:</span> Use the `list_tables()` method to get a list of the tables in the dataset."
      ],
      "text/plain": [
       "Hint: Use the `list_tables()` method to get a list of the tables in the dataset."
      ]
     },
     "metadata": {},
     "output_type": "display_data"
    },
    {
     "data": {
      "application/javascript": [
       "parent.postMessage({\"jupyterEvent\": \"custom.exercise_interaction\", \"data\": {\"interactionType\": 3, \"questionType\": 1, \"questionId\": \"1_CountTables\", \"learnToolsVersion\": \"0.3.4\", \"valueTowardsCompletion\": 0.0, \"failureMessage\": \"\", \"exceptionClass\": \"\", \"trace\": \"\", \"outcomeType\": 4}}, \"*\")"
      ],
      "text/plain": [
       "<IPython.core.display.Javascript object>"
      ]
     },
     "metadata": {},
     "output_type": "display_data"
    },
    {
     "data": {
      "text/markdown": [
       "<span style=\"color:#33cc99\">Solution:</span> \n",
       "```python\n",
       "\n",
       "# List all the tables in the \"chicago_crime\" dataset\n",
       "tables = list(client.list_tables(dataset))\n",
       "\n",
       "# Print number of tables in the dataset\n",
       "print(len(tables))\n",
       "\n",
       "num_tables = 1\n",
       "\n",
       "```"
      ],
      "text/plain": [
       "Solution: \n",
       "```python\n",
       "\n",
       "# List all the tables in the \"chicago_crime\" dataset\n",
       "tables = list(client.list_tables(dataset))\n",
       "\n",
       "# Print number of tables in the dataset\n",
       "print(len(tables))\n",
       "\n",
       "num_tables = 1\n",
       "\n",
       "```"
      ]
     },
     "metadata": {},
     "output_type": "display_data"
    }
   ],
   "source": [
    "q_1.hint()\n",
    "q_1.solution()"
   ]
  },
  {
   "cell_type": "markdown",
   "id": "fb9e1d16",
   "metadata": {
    "papermill": {
     "duration": 0.006807,
     "end_time": "2022-09-20T18:02:26.728329",
     "exception": false,
     "start_time": "2022-09-20T18:02:26.721522",
     "status": "completed"
    },
    "tags": []
   },
   "source": [
    "### 2) Explore the table schema\n",
    "\n",
    "How many columns in the `crime` table have `TIMESTAMP` data?"
   ]
  },
  {
   "cell_type": "code",
   "execution_count": 8,
   "id": "7dbcb7c9",
   "metadata": {
    "execution": {
     "iopub.execute_input": "2022-09-20T18:02:26.745635Z",
     "iopub.status.busy": "2022-09-20T18:02:26.745204Z",
     "iopub.status.idle": "2022-09-20T18:02:27.030660Z",
     "shell.execute_reply": "2022-09-20T18:02:27.029783Z"
    },
    "papermill": {
     "duration": 0.297161,
     "end_time": "2022-09-20T18:02:27.033476",
     "exception": false,
     "start_time": "2022-09-20T18:02:26.736315",
     "status": "completed"
    },
    "tags": []
   },
   "outputs": [],
   "source": [
    "# Construct a reference to the \"full\" table\n",
    "table_ref = dataset_ref.table(\"crime\")\n",
    "\n",
    "# API request - fetch the table\n",
    "table = client.get_table(table_ref)"
   ]
  },
  {
   "cell_type": "code",
   "execution_count": 9,
   "id": "0daeb7f2",
   "metadata": {
    "execution": {
     "iopub.execute_input": "2022-09-20T18:02:27.049906Z",
     "iopub.status.busy": "2022-09-20T18:02:27.049441Z",
     "iopub.status.idle": "2022-09-20T18:02:27.058249Z",
     "shell.execute_reply": "2022-09-20T18:02:27.057130Z"
    },
    "papermill": {
     "duration": 0.019875,
     "end_time": "2022-09-20T18:02:27.060634",
     "exception": false,
     "start_time": "2022-09-20T18:02:27.040759",
     "status": "completed"
    },
    "tags": []
   },
   "outputs": [
    {
     "data": {
      "text/plain": [
       "[SchemaField('unique_key', 'INTEGER', 'REQUIRED', None, (), None),\n",
       " SchemaField('case_number', 'STRING', 'NULLABLE', None, (), None),\n",
       " SchemaField('date', 'TIMESTAMP', 'NULLABLE', None, (), None),\n",
       " SchemaField('block', 'STRING', 'NULLABLE', None, (), None),\n",
       " SchemaField('iucr', 'STRING', 'NULLABLE', None, (), None),\n",
       " SchemaField('primary_type', 'STRING', 'NULLABLE', None, (), None),\n",
       " SchemaField('description', 'STRING', 'NULLABLE', None, (), None),\n",
       " SchemaField('location_description', 'STRING', 'NULLABLE', None, (), None),\n",
       " SchemaField('arrest', 'BOOLEAN', 'NULLABLE', None, (), None),\n",
       " SchemaField('domestic', 'BOOLEAN', 'NULLABLE', None, (), None),\n",
       " SchemaField('beat', 'INTEGER', 'NULLABLE', None, (), None),\n",
       " SchemaField('district', 'INTEGER', 'NULLABLE', None, (), None),\n",
       " SchemaField('ward', 'INTEGER', 'NULLABLE', None, (), None),\n",
       " SchemaField('community_area', 'INTEGER', 'NULLABLE', None, (), None),\n",
       " SchemaField('fbi_code', 'STRING', 'NULLABLE', None, (), None),\n",
       " SchemaField('x_coordinate', 'FLOAT', 'NULLABLE', None, (), None),\n",
       " SchemaField('y_coordinate', 'FLOAT', 'NULLABLE', None, (), None),\n",
       " SchemaField('year', 'INTEGER', 'NULLABLE', None, (), None),\n",
       " SchemaField('updated_on', 'TIMESTAMP', 'NULLABLE', None, (), None),\n",
       " SchemaField('latitude', 'FLOAT', 'NULLABLE', None, (), None),\n",
       " SchemaField('longitude', 'FLOAT', 'NULLABLE', None, (), None),\n",
       " SchemaField('location', 'STRING', 'NULLABLE', None, (), None)]"
      ]
     },
     "execution_count": 9,
     "metadata": {},
     "output_type": "execute_result"
    }
   ],
   "source": [
    "# Write the code to figure out the answer\n",
    "table.schema"
   ]
  },
  {
   "cell_type": "code",
   "execution_count": 10,
   "id": "71590795",
   "metadata": {
    "execution": {
     "iopub.execute_input": "2022-09-20T18:02:27.078259Z",
     "iopub.status.busy": "2022-09-20T18:02:27.077817Z",
     "iopub.status.idle": "2022-09-20T18:02:27.088703Z",
     "shell.execute_reply": "2022-09-20T18:02:27.087620Z"
    },
    "papermill": {
     "duration": 0.022572,
     "end_time": "2022-09-20T18:02:27.091142",
     "exception": false,
     "start_time": "2022-09-20T18:02:27.068570",
     "status": "completed"
    },
    "tags": []
   },
   "outputs": [
    {
     "data": {
      "application/javascript": [
       "parent.postMessage({\"jupyterEvent\": \"custom.exercise_interaction\", \"data\": {\"outcomeType\": 1, \"valueTowardsCompletion\": 0.3333333333333333, \"interactionType\": 1, \"questionType\": 1, \"questionId\": \"2_CountTimestampFields\", \"learnToolsVersion\": \"0.3.4\", \"failureMessage\": \"\", \"exceptionClass\": \"\", \"trace\": \"\"}}, \"*\")"
      ],
      "text/plain": [
       "<IPython.core.display.Javascript object>"
      ]
     },
     "metadata": {},
     "output_type": "display_data"
    },
    {
     "data": {
      "text/markdown": [
       "<span style=\"color:#33cc33\">Correct</span>"
      ],
      "text/plain": [
       "Correct"
      ]
     },
     "metadata": {},
     "output_type": "display_data"
    }
   ],
   "source": [
    "num_timestamp_fields = 2 # Put your answer here\n",
    "\n",
    "# Check your answer\n",
    "q_2.check()"
   ]
  },
  {
   "cell_type": "markdown",
   "id": "00158dcb",
   "metadata": {
    "papermill": {
     "duration": 0.007302,
     "end_time": "2022-09-20T18:02:27.106457",
     "exception": false,
     "start_time": "2022-09-20T18:02:27.099155",
     "status": "completed"
    },
    "tags": []
   },
   "source": [
    "For a hint or the solution, uncomment the appropriate line below."
   ]
  },
  {
   "cell_type": "code",
   "execution_count": 11,
   "id": "e44f912c",
   "metadata": {
    "execution": {
     "iopub.execute_input": "2022-09-20T18:02:27.123852Z",
     "iopub.status.busy": "2022-09-20T18:02:27.123414Z",
     "iopub.status.idle": "2022-09-20T18:02:27.139200Z",
     "shell.execute_reply": "2022-09-20T18:02:27.137781Z"
    },
    "papermill": {
     "duration": 0.027496,
     "end_time": "2022-09-20T18:02:27.141708",
     "exception": false,
     "start_time": "2022-09-20T18:02:27.114212",
     "status": "completed"
    },
    "tags": []
   },
   "outputs": [
    {
     "data": {
      "application/javascript": [
       "parent.postMessage({\"jupyterEvent\": \"custom.exercise_interaction\", \"data\": {\"interactionType\": 2, \"questionType\": 1, \"questionId\": \"2_CountTimestampFields\", \"learnToolsVersion\": \"0.3.4\", \"valueTowardsCompletion\": 0.0, \"failureMessage\": \"\", \"exceptionClass\": \"\", \"trace\": \"\", \"outcomeType\": 4}}, \"*\")"
      ],
      "text/plain": [
       "<IPython.core.display.Javascript object>"
      ]
     },
     "metadata": {},
     "output_type": "display_data"
    },
    {
     "data": {
      "text/markdown": [
       "<span style=\"color:#3366cc\">Hint:</span> Begin by fetching the `crime` table. Then take a look at the table schema, and check the field type of each column.  How many times does `'TIMESTAMP'` appear?"
      ],
      "text/plain": [
       "Hint: Begin by fetching the `crime` table. Then take a look at the table schema, and check the field type of each column.  How many times does `'TIMESTAMP'` appear?"
      ]
     },
     "metadata": {},
     "output_type": "display_data"
    },
    {
     "data": {
      "application/javascript": [
       "parent.postMessage({\"jupyterEvent\": \"custom.exercise_interaction\", \"data\": {\"interactionType\": 3, \"questionType\": 1, \"questionId\": \"2_CountTimestampFields\", \"learnToolsVersion\": \"0.3.4\", \"valueTowardsCompletion\": 0.0, \"failureMessage\": \"\", \"exceptionClass\": \"\", \"trace\": \"\", \"outcomeType\": 4}}, \"*\")"
      ],
      "text/plain": [
       "<IPython.core.display.Javascript object>"
      ]
     },
     "metadata": {},
     "output_type": "display_data"
    },
    {
     "data": {
      "text/markdown": [
       "<span style=\"color:#33cc99\">Solution:</span> \n",
       "```python\n",
       "\n",
       "# Construct a reference to the \"crime\" table\n",
       "table_ref = dataset_ref.table(\"crime\")\n",
       "\n",
       "# API request - fetch the table\n",
       "table = client.get_table(table_ref)\n",
       "\n",
       "# Print information on all the columns in the \"crime\" table in the \"chicago_crime\" dataset\n",
       "print(table.schema)\n",
       "\n",
       "num_timestamp_fields = 2\n",
       "\n",
       "```"
      ],
      "text/plain": [
       "Solution: \n",
       "```python\n",
       "\n",
       "# Construct a reference to the \"crime\" table\n",
       "table_ref = dataset_ref.table(\"crime\")\n",
       "\n",
       "# API request - fetch the table\n",
       "table = client.get_table(table_ref)\n",
       "\n",
       "# Print information on all the columns in the \"crime\" table in the \"chicago_crime\" dataset\n",
       "print(table.schema)\n",
       "\n",
       "num_timestamp_fields = 2\n",
       "\n",
       "```"
      ]
     },
     "metadata": {},
     "output_type": "display_data"
    }
   ],
   "source": [
    "q_2.hint()\n",
    "q_2.solution()"
   ]
  },
  {
   "cell_type": "markdown",
   "id": "4292c2df",
   "metadata": {
    "papermill": {
     "duration": 0.008746,
     "end_time": "2022-09-20T18:02:27.159172",
     "exception": false,
     "start_time": "2022-09-20T18:02:27.150426",
     "status": "completed"
    },
    "tags": []
   },
   "source": [
    "### 3) Create a crime map\n",
    "\n",
    "If you wanted to create a map with a dot at the location of each crime, what are the names of the two fields you likely need to pull out of the `crime` table to plot the crimes on a map?"
   ]
  },
  {
   "cell_type": "code",
   "execution_count": 12,
   "id": "1864f6c1",
   "metadata": {
    "execution": {
     "iopub.execute_input": "2022-09-20T18:02:27.178634Z",
     "iopub.status.busy": "2022-09-20T18:02:27.178208Z",
     "iopub.status.idle": "2022-09-20T18:02:27.184129Z",
     "shell.execute_reply": "2022-09-20T18:02:27.183215Z"
    },
    "papermill": {
     "duration": 0.018968,
     "end_time": "2022-09-20T18:02:27.186749",
     "exception": false,
     "start_time": "2022-09-20T18:02:27.167781",
     "status": "completed"
    },
    "tags": []
   },
   "outputs": [
    {
     "data": {
      "text/plain": [
       "[SchemaField('latitude', 'FLOAT', 'NULLABLE', None, (), None),\n",
       " SchemaField('longitude', 'FLOAT', 'NULLABLE', None, (), None)]"
      ]
     },
     "execution_count": 12,
     "metadata": {},
     "output_type": "execute_result"
    }
   ],
   "source": [
    "# Write the code here to explore the data so you can find the answer\n",
    "table.schema[19:21]"
   ]
  },
  {
   "cell_type": "code",
   "execution_count": 13,
   "id": "cb60d6db",
   "metadata": {
    "execution": {
     "iopub.execute_input": "2022-09-20T18:02:27.205066Z",
     "iopub.status.busy": "2022-09-20T18:02:27.204665Z",
     "iopub.status.idle": "2022-09-20T18:02:27.213540Z",
     "shell.execute_reply": "2022-09-20T18:02:27.212490Z"
    },
    "papermill": {
     "duration": 0.020779,
     "end_time": "2022-09-20T18:02:27.215948",
     "exception": false,
     "start_time": "2022-09-20T18:02:27.195169",
     "status": "completed"
    },
    "tags": []
   },
   "outputs": [
    {
     "data": {
      "application/javascript": [
       "parent.postMessage({\"jupyterEvent\": \"custom.exercise_interaction\", \"data\": {\"outcomeType\": 1, \"valueTowardsCompletion\": 0.3333333333333333, \"interactionType\": 1, \"questionType\": 2, \"questionId\": \"3_IdentifyFieldsForPlotting\", \"learnToolsVersion\": \"0.3.4\", \"failureMessage\": \"\", \"exceptionClass\": \"\", \"trace\": \"\"}}, \"*\")"
      ],
      "text/plain": [
       "<IPython.core.display.Javascript object>"
      ]
     },
     "metadata": {},
     "output_type": "display_data"
    },
    {
     "data": {
      "text/markdown": [
       "<span style=\"color:#33cc33\">Correct</span>"
      ],
      "text/plain": [
       "Correct"
      ]
     },
     "metadata": {},
     "output_type": "display_data"
    }
   ],
   "source": [
    "fields_for_plotting = ['latitude', 'longitude' ] # Put your answers here\n",
    "\n",
    "# Check your answer\n",
    "q_3.check()"
   ]
  },
  {
   "cell_type": "markdown",
   "id": "67521d90",
   "metadata": {
    "papermill": {
     "duration": 0.008112,
     "end_time": "2022-09-20T18:02:27.232458",
     "exception": false,
     "start_time": "2022-09-20T18:02:27.224346",
     "status": "completed"
    },
    "tags": []
   },
   "source": [
    "For a hint or the solution, uncomment the appropriate line below."
   ]
  },
  {
   "cell_type": "code",
   "execution_count": 14,
   "id": "19259b9d",
   "metadata": {
    "execution": {
     "iopub.execute_input": "2022-09-20T18:02:27.251012Z",
     "iopub.status.busy": "2022-09-20T18:02:27.250595Z",
     "iopub.status.idle": "2022-09-20T18:02:27.255362Z",
     "shell.execute_reply": "2022-09-20T18:02:27.254115Z"
    },
    "papermill": {
     "duration": 0.017104,
     "end_time": "2022-09-20T18:02:27.257815",
     "exception": false,
     "start_time": "2022-09-20T18:02:27.240711",
     "status": "completed"
    },
    "tags": []
   },
   "outputs": [],
   "source": [
    "#q_3.hint()\n",
    "#q_3.solution()"
   ]
  },
  {
   "cell_type": "markdown",
   "id": "8a0cf6df",
   "metadata": {
    "papermill": {
     "duration": 0.008245,
     "end_time": "2022-09-20T18:02:27.274599",
     "exception": false,
     "start_time": "2022-09-20T18:02:27.266354",
     "status": "completed"
    },
    "tags": []
   },
   "source": [
    "Thinking about the question above, there are a few columns that appear to have geographic data. Look at a few values (with the `list_rows()` command) to see if you can determine their relationship.  Two columns will still be hard to interpret. But it should be obvious how the `location` column relates to `latitude` and `longitude`."
   ]
  },
  {
   "cell_type": "code",
   "execution_count": 15,
   "id": "7aa28e24",
   "metadata": {
    "execution": {
     "iopub.execute_input": "2022-09-20T18:02:27.293246Z",
     "iopub.status.busy": "2022-09-20T18:02:27.292842Z",
     "iopub.status.idle": "2022-09-20T18:02:27.803202Z",
     "shell.execute_reply": "2022-09-20T18:02:27.802330Z"
    },
    "papermill": {
     "duration": 0.522389,
     "end_time": "2022-09-20T18:02:27.805421",
     "exception": false,
     "start_time": "2022-09-20T18:02:27.283032",
     "status": "completed"
    },
    "tags": []
   },
   "outputs": [
    {
     "name": "stderr",
     "output_type": "stream",
     "text": [
      "/opt/conda/lib/python3.7/site-packages/ipykernel_launcher.py:2: UserWarning: Cannot use bqstorage_client if max_results is set, reverting to fetching data with the tabledata.list endpoint.\n",
      "  \n"
     ]
    },
    {
     "data": {
      "text/html": [
       "<div>\n",
       "<style scoped>\n",
       "    .dataframe tbody tr th:only-of-type {\n",
       "        vertical-align: middle;\n",
       "    }\n",
       "\n",
       "    .dataframe tbody tr th {\n",
       "        vertical-align: top;\n",
       "    }\n",
       "\n",
       "    .dataframe thead th {\n",
       "        text-align: right;\n",
       "    }\n",
       "</style>\n",
       "<table border=\"1\" class=\"dataframe\">\n",
       "  <thead>\n",
       "    <tr style=\"text-align: right;\">\n",
       "      <th></th>\n",
       "      <th>unique_key</th>\n",
       "      <th>case_number</th>\n",
       "      <th>date</th>\n",
       "      <th>block</th>\n",
       "      <th>iucr</th>\n",
       "      <th>primary_type</th>\n",
       "      <th>description</th>\n",
       "      <th>location_description</th>\n",
       "      <th>arrest</th>\n",
       "      <th>domestic</th>\n",
       "      <th>...</th>\n",
       "      <th>ward</th>\n",
       "      <th>community_area</th>\n",
       "      <th>fbi_code</th>\n",
       "      <th>x_coordinate</th>\n",
       "      <th>y_coordinate</th>\n",
       "      <th>year</th>\n",
       "      <th>updated_on</th>\n",
       "      <th>latitude</th>\n",
       "      <th>longitude</th>\n",
       "      <th>location</th>\n",
       "    </tr>\n",
       "  </thead>\n",
       "  <tbody>\n",
       "    <tr>\n",
       "      <th>0</th>\n",
       "      <td>25111</td>\n",
       "      <td>JD241492</td>\n",
       "      <td>2020-05-24 04:45:00+00:00</td>\n",
       "      <td>004XX E 103RD ST</td>\n",
       "      <td>0110</td>\n",
       "      <td>HOMICIDE</td>\n",
       "      <td>FIRST DEGREE MURDER</td>\n",
       "      <td>ALLEY</td>\n",
       "      <td>False</td>\n",
       "      <td>False</td>\n",
       "      <td>...</td>\n",
       "      <td>9</td>\n",
       "      <td>49</td>\n",
       "      <td>01A</td>\n",
       "      <td>1181181.0</td>\n",
       "      <td>1836771.0</td>\n",
       "      <td>2020</td>\n",
       "      <td>2022-08-31 04:51:30+00:00</td>\n",
       "      <td>41.707340</td>\n",
       "      <td>-87.612121</td>\n",
       "      <td>(41.707340178, -87.612120952)</td>\n",
       "    </tr>\n",
       "    <tr>\n",
       "      <th>1</th>\n",
       "      <td>20399</td>\n",
       "      <td>HV275470</td>\n",
       "      <td>2012-05-07 02:30:00+00:00</td>\n",
       "      <td>009XX E 104TH ST</td>\n",
       "      <td>0110</td>\n",
       "      <td>HOMICIDE</td>\n",
       "      <td>FIRST DEGREE MURDER</td>\n",
       "      <td>APARTMENT</td>\n",
       "      <td>False</td>\n",
       "      <td>True</td>\n",
       "      <td>...</td>\n",
       "      <td>9</td>\n",
       "      <td>50</td>\n",
       "      <td>01A</td>\n",
       "      <td>1184238.0</td>\n",
       "      <td>1836191.0</td>\n",
       "      <td>2012</td>\n",
       "      <td>2022-08-31 04:51:30+00:00</td>\n",
       "      <td>41.705678</td>\n",
       "      <td>-87.600944</td>\n",
       "      <td>(41.705677782, -87.600944364)</td>\n",
       "    </tr>\n",
       "    <tr>\n",
       "      <th>2</th>\n",
       "      <td>24248</td>\n",
       "      <td>JB484762</td>\n",
       "      <td>2018-10-21 10:19:00+00:00</td>\n",
       "      <td>106XX S WABASH AVE</td>\n",
       "      <td>0110</td>\n",
       "      <td>HOMICIDE</td>\n",
       "      <td>FIRST DEGREE MURDER</td>\n",
       "      <td>APARTMENT</td>\n",
       "      <td>True</td>\n",
       "      <td>True</td>\n",
       "      <td>...</td>\n",
       "      <td>9</td>\n",
       "      <td>49</td>\n",
       "      <td>01A</td>\n",
       "      <td>1178462.0</td>\n",
       "      <td>1834366.0</td>\n",
       "      <td>2018</td>\n",
       "      <td>2022-09-18 04:45:51+00:00</td>\n",
       "      <td>41.700803</td>\n",
       "      <td>-87.622151</td>\n",
       "      <td>(41.700802584, -87.622150622)</td>\n",
       "    </tr>\n",
       "    <tr>\n",
       "      <th>3</th>\n",
       "      <td>3724</td>\n",
       "      <td>HM509037</td>\n",
       "      <td>2006-07-30 02:52:00+00:00</td>\n",
       "      <td>104XX S STATE ST</td>\n",
       "      <td>0110</td>\n",
       "      <td>HOMICIDE</td>\n",
       "      <td>FIRST DEGREE MURDER</td>\n",
       "      <td>AUTO</td>\n",
       "      <td>False</td>\n",
       "      <td>False</td>\n",
       "      <td>...</td>\n",
       "      <td>9</td>\n",
       "      <td>49</td>\n",
       "      <td>01A</td>\n",
       "      <td>1178106.0</td>\n",
       "      <td>1835436.0</td>\n",
       "      <td>2006</td>\n",
       "      <td>2022-08-31 04:51:30+00:00</td>\n",
       "      <td>41.703747</td>\n",
       "      <td>-87.623422</td>\n",
       "      <td>(41.703746874, -87.623421862)</td>\n",
       "    </tr>\n",
       "    <tr>\n",
       "      <th>4</th>\n",
       "      <td>2680</td>\n",
       "      <td>HK308329</td>\n",
       "      <td>2004-04-17 11:35:00+00:00</td>\n",
       "      <td>106XX S WENTWORTH AVE</td>\n",
       "      <td>0110</td>\n",
       "      <td>HOMICIDE</td>\n",
       "      <td>FIRST DEGREE MURDER</td>\n",
       "      <td>STREET</td>\n",
       "      <td>False</td>\n",
       "      <td>False</td>\n",
       "      <td>...</td>\n",
       "      <td>34</td>\n",
       "      <td>49</td>\n",
       "      <td>01A</td>\n",
       "      <td>1176839.0</td>\n",
       "      <td>1834173.0</td>\n",
       "      <td>2004</td>\n",
       "      <td>2022-09-18 04:45:51+00:00</td>\n",
       "      <td>41.700310</td>\n",
       "      <td>-87.628099</td>\n",
       "      <td>(41.700309589, -87.628099219)</td>\n",
       "    </tr>\n",
       "  </tbody>\n",
       "</table>\n",
       "<p>5 rows × 22 columns</p>\n",
       "</div>"
      ],
      "text/plain": [
       "   unique_key case_number                      date                  block  \\\n",
       "0       25111    JD241492 2020-05-24 04:45:00+00:00       004XX E 103RD ST   \n",
       "1       20399    HV275470 2012-05-07 02:30:00+00:00       009XX E 104TH ST   \n",
       "2       24248    JB484762 2018-10-21 10:19:00+00:00     106XX S WABASH AVE   \n",
       "3        3724    HM509037 2006-07-30 02:52:00+00:00       104XX S STATE ST   \n",
       "4        2680    HK308329 2004-04-17 11:35:00+00:00  106XX S WENTWORTH AVE   \n",
       "\n",
       "   iucr primary_type          description location_description  arrest  \\\n",
       "0  0110     HOMICIDE  FIRST DEGREE MURDER                ALLEY   False   \n",
       "1  0110     HOMICIDE  FIRST DEGREE MURDER            APARTMENT   False   \n",
       "2  0110     HOMICIDE  FIRST DEGREE MURDER            APARTMENT    True   \n",
       "3  0110     HOMICIDE  FIRST DEGREE MURDER                 AUTO   False   \n",
       "4  0110     HOMICIDE  FIRST DEGREE MURDER               STREET   False   \n",
       "\n",
       "   domestic  ...  ward  community_area  fbi_code  x_coordinate y_coordinate  \\\n",
       "0     False  ...     9              49       01A     1181181.0    1836771.0   \n",
       "1      True  ...     9              50       01A     1184238.0    1836191.0   \n",
       "2      True  ...     9              49       01A     1178462.0    1834366.0   \n",
       "3     False  ...     9              49       01A     1178106.0    1835436.0   \n",
       "4     False  ...    34              49       01A     1176839.0    1834173.0   \n",
       "\n",
       "   year                updated_on   latitude  longitude  \\\n",
       "0  2020 2022-08-31 04:51:30+00:00  41.707340 -87.612121   \n",
       "1  2012 2022-08-31 04:51:30+00:00  41.705678 -87.600944   \n",
       "2  2018 2022-09-18 04:45:51+00:00  41.700803 -87.622151   \n",
       "3  2006 2022-08-31 04:51:30+00:00  41.703747 -87.623422   \n",
       "4  2004 2022-09-18 04:45:51+00:00  41.700310 -87.628099   \n",
       "\n",
       "                        location  \n",
       "0  (41.707340178, -87.612120952)  \n",
       "1  (41.705677782, -87.600944364)  \n",
       "2  (41.700802584, -87.622150622)  \n",
       "3  (41.703746874, -87.623421862)  \n",
       "4  (41.700309589, -87.628099219)  \n",
       "\n",
       "[5 rows x 22 columns]"
      ]
     },
     "execution_count": 15,
     "metadata": {},
     "output_type": "execute_result"
    }
   ],
   "source": [
    "# Scratch space for your code\n",
    "client.list_rows(table, max_results=5).to_dataframe()"
   ]
  },
  {
   "cell_type": "markdown",
   "id": "536133fb",
   "metadata": {
    "papermill": {
     "duration": 0.008623,
     "end_time": "2022-09-20T18:02:27.823047",
     "exception": false,
     "start_time": "2022-09-20T18:02:27.814424",
     "status": "completed"
    },
    "tags": []
   },
   "source": [
    "# Keep going\n",
    "\n",
    "You've looked at the schema, but you haven't yet done anything exciting with the data itself. Things get more interesting when you get to the data, so keep going to **[write your first SQL query](https://www.kaggle.com/dansbecker/select-from-where).**"
   ]
  },
  {
   "cell_type": "markdown",
   "id": "c693b94c",
   "metadata": {
    "papermill": {
     "duration": 0.00896,
     "end_time": "2022-09-20T18:02:27.840999",
     "exception": false,
     "start_time": "2022-09-20T18:02:27.832039",
     "status": "completed"
    },
    "tags": []
   },
   "source": [
    "---\n",
    "\n",
    "\n",
    "\n",
    "\n",
    "*Have questions or comments? Visit the [course discussion forum](https://www.kaggle.com/learn/intro-to-sql/discussion) to chat with other learners.*"
   ]
  }
 ],
 "metadata": {
  "kernelspec": {
   "display_name": "Python 3",
   "language": "python",
   "name": "python3"
  },
  "language_info": {
   "codemirror_mode": {
    "name": "ipython",
    "version": 3
   },
   "file_extension": ".py",
   "mimetype": "text/x-python",
   "name": "python",
   "nbconvert_exporter": "python",
   "pygments_lexer": "ipython3",
   "version": "3.7.12"
  },
  "papermill": {
   "default_parameters": {},
   "duration": 14.816487,
   "end_time": "2022-09-20T18:02:28.572907",
   "environment_variables": {},
   "exception": null,
   "input_path": "__notebook__.ipynb",
   "output_path": "__notebook__.ipynb",
   "parameters": {},
   "start_time": "2022-09-20T18:02:13.756420",
   "version": "2.3.4"
  }
 },
 "nbformat": 4,
 "nbformat_minor": 5
}
