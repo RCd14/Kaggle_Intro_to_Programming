{
 "cells": [
  {
   "cell_type": "markdown",
   "id": "b7923037",
   "metadata": {
    "papermill": {
     "duration": 0.007378,
     "end_time": "2022-09-19T16:41:33.986489",
     "exception": false,
     "start_time": "2022-09-19T16:41:33.979111",
     "status": "completed"
    },
    "tags": []
   },
   "source": [
    "**This notebook is an exercise in the [Data Cleaning](https://www.kaggle.com/learn/data-cleaning) course.  You can reference the tutorial at [this link](https://www.kaggle.com/alexisbcook/character-encodings).**\n",
    "\n",
    "---\n"
   ]
  },
  {
   "cell_type": "markdown",
   "id": "13107fae",
   "metadata": {
    "papermill": {
     "duration": 0.004919,
     "end_time": "2022-09-19T16:41:33.996869",
     "exception": false,
     "start_time": "2022-09-19T16:41:33.991950",
     "status": "completed"
    },
    "tags": []
   },
   "source": [
    "In this exercise, you'll apply what you learned in the **Character encodings** tutorial.\n",
    "\n",
    "# Setup\n",
    "\n",
    "The questions below will give you feedback on your work. Run the following cell to set up the feedback system."
   ]
  },
  {
   "cell_type": "code",
   "execution_count": 1,
   "id": "fc24ee5a",
   "metadata": {
    "execution": {
     "iopub.execute_input": "2022-09-19T16:41:34.009568Z",
     "iopub.status.busy": "2022-09-19T16:41:34.008916Z",
     "iopub.status.idle": "2022-09-19T16:41:34.099345Z",
     "shell.execute_reply": "2022-09-19T16:41:34.098503Z"
    },
    "papermill": {
     "duration": 0.100132,
     "end_time": "2022-09-19T16:41:34.102222",
     "exception": false,
     "start_time": "2022-09-19T16:41:34.002090",
     "status": "completed"
    },
    "tags": []
   },
   "outputs": [
    {
     "name": "stdout",
     "output_type": "stream",
     "text": [
      "Setup Complete\n"
     ]
    }
   ],
   "source": [
    "from learntools.core import binder\n",
    "binder.bind(globals())\n",
    "from learntools.data_cleaning.ex4 import *\n",
    "print(\"Setup Complete\")"
   ]
  },
  {
   "cell_type": "markdown",
   "id": "616f0d89",
   "metadata": {
    "papermill": {
     "duration": 0.005073,
     "end_time": "2022-09-19T16:41:34.112724",
     "exception": false,
     "start_time": "2022-09-19T16:41:34.107651",
     "status": "completed"
    },
    "tags": []
   },
   "source": [
    "# Get our environment set up\n",
    "\n",
    "The first thing we'll need to do is load in the libraries we'll be using."
   ]
  },
  {
   "cell_type": "code",
   "execution_count": 2,
   "id": "6ba923f7",
   "metadata": {
    "execution": {
     "iopub.execute_input": "2022-09-19T16:41:34.125348Z",
     "iopub.status.busy": "2022-09-19T16:41:34.124667Z",
     "iopub.status.idle": "2022-09-19T16:41:34.129296Z",
     "shell.execute_reply": "2022-09-19T16:41:34.128480Z"
    },
    "papermill": {
     "duration": 0.013449,
     "end_time": "2022-09-19T16:41:34.131424",
     "exception": false,
     "start_time": "2022-09-19T16:41:34.117975",
     "status": "completed"
    },
    "tags": []
   },
   "outputs": [],
   "source": [
    "# modules we'll use\n",
    "import pandas as pd\n",
    "import numpy as np\n",
    "\n",
    "# helpful character encoding module\n",
    "import chardet\n",
    "\n",
    "# set seed for reproducibility\n",
    "np.random.seed(0)"
   ]
  },
  {
   "cell_type": "markdown",
   "id": "06e74cb4",
   "metadata": {
    "papermill": {
     "duration": 0.005168,
     "end_time": "2022-09-19T16:41:34.142146",
     "exception": false,
     "start_time": "2022-09-19T16:41:34.136978",
     "status": "completed"
    },
    "tags": []
   },
   "source": [
    "# 1) What are encodings?\n",
    "\n",
    "You're working with a dataset composed of bytes.  Run the code cell below to print a sample entry."
   ]
  },
  {
   "cell_type": "code",
   "execution_count": 3,
   "id": "f6bb8515",
   "metadata": {
    "execution": {
     "iopub.execute_input": "2022-09-19T16:41:34.156062Z",
     "iopub.status.busy": "2022-09-19T16:41:34.155344Z",
     "iopub.status.idle": "2022-09-19T16:41:34.160744Z",
     "shell.execute_reply": "2022-09-19T16:41:34.159602Z"
    },
    "papermill": {
     "duration": 0.015613,
     "end_time": "2022-09-19T16:41:34.163843",
     "exception": false,
     "start_time": "2022-09-19T16:41:34.148230",
     "status": "completed"
    },
    "tags": []
   },
   "outputs": [
    {
     "name": "stdout",
     "output_type": "stream",
     "text": [
      "b'\\xa7A\\xa6n'\n",
      "data type: <class 'bytes'>\n"
     ]
    }
   ],
   "source": [
    "sample_entry = b'\\xa7A\\xa6n'\n",
    "print(sample_entry)\n",
    "print('data type:', type(sample_entry))"
   ]
  },
  {
   "cell_type": "markdown",
   "id": "be04c5b3",
   "metadata": {
    "papermill": {
     "duration": 0.005114,
     "end_time": "2022-09-19T16:41:34.174916",
     "exception": false,
     "start_time": "2022-09-19T16:41:34.169802",
     "status": "completed"
    },
    "tags": []
   },
   "source": [
    "You notice that it doesn't use the standard UTF-8 encoding. \n",
    "\n",
    "Use the next code cell to create a variable `new_entry` that changes the encoding from `\"big5-tw\"` to `\"utf-8\"`.  `new_entry` should have the bytes datatype."
   ]
  },
  {
   "cell_type": "code",
   "execution_count": 4,
   "id": "74551d5e",
   "metadata": {
    "execution": {
     "iopub.execute_input": "2022-09-19T16:41:34.187468Z",
     "iopub.status.busy": "2022-09-19T16:41:34.186827Z",
     "iopub.status.idle": "2022-09-19T16:41:34.195203Z",
     "shell.execute_reply": "2022-09-19T16:41:34.194067Z"
    },
    "papermill": {
     "duration": 0.017272,
     "end_time": "2022-09-19T16:41:34.197404",
     "exception": false,
     "start_time": "2022-09-19T16:41:34.180132",
     "status": "completed"
    },
    "tags": []
   },
   "outputs": [
    {
     "data": {
      "text/plain": [
       "b'\\xe4\\xbd\\xa0\\xe5\\xa5\\xbd'"
      ]
     },
     "execution_count": 4,
     "metadata": {},
     "output_type": "execute_result"
    }
   ],
   "source": [
    "sample_entry.decode(\"big5-tw\").encode()"
   ]
  },
  {
   "cell_type": "code",
   "execution_count": 5,
   "id": "5b2a144d",
   "metadata": {
    "execution": {
     "iopub.execute_input": "2022-09-19T16:41:34.210092Z",
     "iopub.status.busy": "2022-09-19T16:41:34.209512Z",
     "iopub.status.idle": "2022-09-19T16:41:34.217773Z",
     "shell.execute_reply": "2022-09-19T16:41:34.216743Z"
    },
    "papermill": {
     "duration": 0.017309,
     "end_time": "2022-09-19T16:41:34.220186",
     "exception": false,
     "start_time": "2022-09-19T16:41:34.202877",
     "status": "completed"
    },
    "tags": []
   },
   "outputs": [
    {
     "data": {
      "application/javascript": [
       "parent.postMessage({\"jupyterEvent\": \"custom.exercise_interaction\", \"data\": {\"outcomeType\": 1, \"valueTowardsCompletion\": 0.3333333333333333, \"interactionType\": 1, \"questionType\": 1, \"questionId\": \"1_EncodingsIntro\", \"learnToolsVersion\": \"0.3.4\", \"failureMessage\": \"\", \"exceptionClass\": \"\", \"trace\": \"\"}}, \"*\")"
      ],
      "text/plain": [
       "<IPython.core.display.Javascript object>"
      ]
     },
     "metadata": {},
     "output_type": "display_data"
    },
    {
     "data": {
      "text/markdown": [
       "<span style=\"color:#33cc33\">Correct</span>"
      ],
      "text/plain": [
       "Correct"
      ]
     },
     "metadata": {},
     "output_type": "display_data"
    }
   ],
   "source": [
    "new_entry = sample_entry.decode(\"big5-tw\").encode()\n",
    "\n",
    "# Check your answer\n",
    "q1.check()"
   ]
  },
  {
   "cell_type": "code",
   "execution_count": 6,
   "id": "6affa65c",
   "metadata": {
    "execution": {
     "iopub.execute_input": "2022-09-19T16:41:34.233231Z",
     "iopub.status.busy": "2022-09-19T16:41:34.232843Z",
     "iopub.status.idle": "2022-09-19T16:41:34.243969Z",
     "shell.execute_reply": "2022-09-19T16:41:34.242882Z"
    },
    "papermill": {
     "duration": 0.020356,
     "end_time": "2022-09-19T16:41:34.246199",
     "exception": false,
     "start_time": "2022-09-19T16:41:34.225843",
     "status": "completed"
    },
    "tags": []
   },
   "outputs": [
    {
     "data": {
      "application/javascript": [
       "parent.postMessage({\"jupyterEvent\": \"custom.exercise_interaction\", \"data\": {\"interactionType\": 2, \"questionType\": 1, \"questionId\": \"1_EncodingsIntro\", \"learnToolsVersion\": \"0.3.4\", \"valueTowardsCompletion\": 0.0, \"failureMessage\": \"\", \"exceptionClass\": \"\", \"trace\": \"\", \"outcomeType\": 4}}, \"*\")"
      ],
      "text/plain": [
       "<IPython.core.display.Javascript object>"
      ]
     },
     "metadata": {},
     "output_type": "display_data"
    },
    {
     "data": {
      "text/markdown": [
       "<span style=\"color:#3366cc\">Hint:</span> Try using `.decode()` to get the string, then `.encode()` to get the bytes representation, encoded in UTF-8."
      ],
      "text/plain": [
       "Hint: Try using `.decode()` to get the string, then `.encode()` to get the bytes representation, encoded in UTF-8."
      ]
     },
     "metadata": {},
     "output_type": "display_data"
    },
    {
     "data": {
      "application/javascript": [
       "parent.postMessage({\"jupyterEvent\": \"custom.exercise_interaction\", \"data\": {\"interactionType\": 3, \"questionType\": 1, \"questionId\": \"1_EncodingsIntro\", \"learnToolsVersion\": \"0.3.4\", \"valueTowardsCompletion\": 0.0, \"failureMessage\": \"\", \"exceptionClass\": \"\", \"trace\": \"\", \"outcomeType\": 4}}, \"*\")"
      ],
      "text/plain": [
       "<IPython.core.display.Javascript object>"
      ]
     },
     "metadata": {},
     "output_type": "display_data"
    },
    {
     "data": {
      "text/markdown": [
       "<span style=\"color:#33cc99\">Solution:</span> \n",
       "```python\n",
       "before = sample_entry.decode(\"big5-tw\")\n",
       "new_entry = before.encode()\n",
       "\n",
       "```"
      ],
      "text/plain": [
       "Solution: \n",
       "```python\n",
       "before = sample_entry.decode(\"big5-tw\")\n",
       "new_entry = before.encode()\n",
       "\n",
       "```"
      ]
     },
     "metadata": {},
     "output_type": "display_data"
    }
   ],
   "source": [
    "# Lines below will give you a hint or solution code\n",
    "q1.hint()\n",
    "q1.solution()"
   ]
  },
  {
   "cell_type": "markdown",
   "id": "2d582887",
   "metadata": {
    "papermill": {
     "duration": 0.005815,
     "end_time": "2022-09-19T16:41:34.258050",
     "exception": false,
     "start_time": "2022-09-19T16:41:34.252235",
     "status": "completed"
    },
    "tags": []
   },
   "source": [
    "# 2) Reading in files with encoding problems\n",
    "\n",
    "Use the code cell below to read in this file at path `\"../input/fatal-police-shootings-in-the-us/PoliceKillingsUS.csv\"`.  \n",
    "\n",
    "Figure out what the correct encoding should be and read in the file to a DataFrame `police_killings`."
   ]
  },
  {
   "cell_type": "code",
   "execution_count": 7,
   "id": "39b2330f",
   "metadata": {
    "execution": {
     "iopub.execute_input": "2022-09-19T16:41:34.273097Z",
     "iopub.status.busy": "2022-09-19T16:41:34.272665Z",
     "iopub.status.idle": "2022-09-19T16:41:34.950630Z",
     "shell.execute_reply": "2022-09-19T16:41:34.949159Z"
    },
    "papermill": {
     "duration": 0.689321,
     "end_time": "2022-09-19T16:41:34.953416",
     "exception": false,
     "start_time": "2022-09-19T16:41:34.264095",
     "status": "completed"
    },
    "tags": []
   },
   "outputs": [
    {
     "name": "stdout",
     "output_type": "stream",
     "text": [
      "{'encoding': 'Windows-1252', 'confidence': 0.73, 'language': ''}\n"
     ]
    }
   ],
   "source": [
    "with open(\"../input/fatal-police-shootings-in-the-us/PoliceKillingsUS.csv\", 'rb') as rawdata:\n",
    "    result=chardet.detect(rawdata.read(30000))\n",
    "    \n",
    "    print(result)"
   ]
  },
  {
   "cell_type": "code",
   "execution_count": 8,
   "id": "57918af8",
   "metadata": {
    "execution": {
     "iopub.execute_input": "2022-09-19T16:41:34.967845Z",
     "iopub.status.busy": "2022-09-19T16:41:34.967416Z",
     "iopub.status.idle": "2022-09-19T16:41:34.992935Z",
     "shell.execute_reply": "2022-09-19T16:41:34.991649Z"
    },
    "papermill": {
     "duration": 0.035634,
     "end_time": "2022-09-19T16:41:34.995348",
     "exception": false,
     "start_time": "2022-09-19T16:41:34.959714",
     "status": "completed"
    },
    "tags": []
   },
   "outputs": [
    {
     "data": {
      "application/javascript": [
       "parent.postMessage({\"jupyterEvent\": \"custom.exercise_interaction\", \"data\": {\"outcomeType\": 1, \"valueTowardsCompletion\": 0.3333333333333333, \"interactionType\": 1, \"questionType\": 1, \"questionId\": \"2_ReadIn\", \"learnToolsVersion\": \"0.3.4\", \"failureMessage\": \"\", \"exceptionClass\": \"\", \"trace\": \"\"}}, \"*\")"
      ],
      "text/plain": [
       "<IPython.core.display.Javascript object>"
      ]
     },
     "metadata": {},
     "output_type": "display_data"
    },
    {
     "data": {
      "text/markdown": [
       "<span style=\"color:#33cc33\">Correct</span>"
      ],
      "text/plain": [
       "Correct"
      ]
     },
     "metadata": {},
     "output_type": "display_data"
    }
   ],
   "source": [
    "# TODO: Load in the DataFrame correctly.\n",
    "police_killings = pd.read_csv(\"../input/fatal-police-shootings-in-the-us/PoliceKillingsUS.csv\", encoding=\"Windows-1252\")\n",
    "\n",
    "# Check your answer\n",
    "q2.check()"
   ]
  },
  {
   "cell_type": "markdown",
   "id": "4eb12220",
   "metadata": {
    "papermill": {
     "duration": 0.006114,
     "end_time": "2022-09-19T16:41:35.007969",
     "exception": false,
     "start_time": "2022-09-19T16:41:35.001855",
     "status": "completed"
    },
    "tags": []
   },
   "source": [
    "Feel free to use any additional code cells for supplemental work.  To get credit for finishing this question, you'll need to run `q2.check()` and get a result of **Correct**."
   ]
  },
  {
   "cell_type": "code",
   "execution_count": 9,
   "id": "6263d461",
   "metadata": {
    "execution": {
     "iopub.execute_input": "2022-09-19T16:41:35.023523Z",
     "iopub.status.busy": "2022-09-19T16:41:35.022754Z",
     "iopub.status.idle": "2022-09-19T16:41:35.045166Z",
     "shell.execute_reply": "2022-09-19T16:41:35.043913Z"
    },
    "papermill": {
     "duration": 0.033568,
     "end_time": "2022-09-19T16:41:35.048040",
     "exception": false,
     "start_time": "2022-09-19T16:41:35.014472",
     "status": "completed"
    },
    "tags": []
   },
   "outputs": [
    {
     "data": {
      "text/html": [
       "<div>\n",
       "<style scoped>\n",
       "    .dataframe tbody tr th:only-of-type {\n",
       "        vertical-align: middle;\n",
       "    }\n",
       "\n",
       "    .dataframe tbody tr th {\n",
       "        vertical-align: top;\n",
       "    }\n",
       "\n",
       "    .dataframe thead th {\n",
       "        text-align: right;\n",
       "    }\n",
       "</style>\n",
       "<table border=\"1\" class=\"dataframe\">\n",
       "  <thead>\n",
       "    <tr style=\"text-align: right;\">\n",
       "      <th></th>\n",
       "      <th>id</th>\n",
       "      <th>name</th>\n",
       "      <th>date</th>\n",
       "      <th>manner_of_death</th>\n",
       "      <th>armed</th>\n",
       "      <th>age</th>\n",
       "      <th>gender</th>\n",
       "      <th>race</th>\n",
       "      <th>city</th>\n",
       "      <th>state</th>\n",
       "      <th>signs_of_mental_illness</th>\n",
       "      <th>threat_level</th>\n",
       "      <th>flee</th>\n",
       "      <th>body_camera</th>\n",
       "    </tr>\n",
       "  </thead>\n",
       "  <tbody>\n",
       "    <tr>\n",
       "      <th>0</th>\n",
       "      <td>3</td>\n",
       "      <td>Tim Elliot</td>\n",
       "      <td>02/01/15</td>\n",
       "      <td>shot</td>\n",
       "      <td>gun</td>\n",
       "      <td>53.0</td>\n",
       "      <td>M</td>\n",
       "      <td>A</td>\n",
       "      <td>Shelton</td>\n",
       "      <td>WA</td>\n",
       "      <td>True</td>\n",
       "      <td>attack</td>\n",
       "      <td>Not fleeing</td>\n",
       "      <td>False</td>\n",
       "    </tr>\n",
       "    <tr>\n",
       "      <th>1</th>\n",
       "      <td>4</td>\n",
       "      <td>Lewis Lee Lembke</td>\n",
       "      <td>02/01/15</td>\n",
       "      <td>shot</td>\n",
       "      <td>gun</td>\n",
       "      <td>47.0</td>\n",
       "      <td>M</td>\n",
       "      <td>W</td>\n",
       "      <td>Aloha</td>\n",
       "      <td>OR</td>\n",
       "      <td>False</td>\n",
       "      <td>attack</td>\n",
       "      <td>Not fleeing</td>\n",
       "      <td>False</td>\n",
       "    </tr>\n",
       "    <tr>\n",
       "      <th>2</th>\n",
       "      <td>5</td>\n",
       "      <td>John Paul Quintero</td>\n",
       "      <td>03/01/15</td>\n",
       "      <td>shot and Tasered</td>\n",
       "      <td>unarmed</td>\n",
       "      <td>23.0</td>\n",
       "      <td>M</td>\n",
       "      <td>H</td>\n",
       "      <td>Wichita</td>\n",
       "      <td>KS</td>\n",
       "      <td>False</td>\n",
       "      <td>other</td>\n",
       "      <td>Not fleeing</td>\n",
       "      <td>False</td>\n",
       "    </tr>\n",
       "    <tr>\n",
       "      <th>3</th>\n",
       "      <td>8</td>\n",
       "      <td>Matthew Hoffman</td>\n",
       "      <td>04/01/15</td>\n",
       "      <td>shot</td>\n",
       "      <td>toy weapon</td>\n",
       "      <td>32.0</td>\n",
       "      <td>M</td>\n",
       "      <td>W</td>\n",
       "      <td>San Francisco</td>\n",
       "      <td>CA</td>\n",
       "      <td>True</td>\n",
       "      <td>attack</td>\n",
       "      <td>Not fleeing</td>\n",
       "      <td>False</td>\n",
       "    </tr>\n",
       "    <tr>\n",
       "      <th>4</th>\n",
       "      <td>9</td>\n",
       "      <td>Michael Rodriguez</td>\n",
       "      <td>04/01/15</td>\n",
       "      <td>shot</td>\n",
       "      <td>nail gun</td>\n",
       "      <td>39.0</td>\n",
       "      <td>M</td>\n",
       "      <td>H</td>\n",
       "      <td>Evans</td>\n",
       "      <td>CO</td>\n",
       "      <td>False</td>\n",
       "      <td>attack</td>\n",
       "      <td>Not fleeing</td>\n",
       "      <td>False</td>\n",
       "    </tr>\n",
       "  </tbody>\n",
       "</table>\n",
       "</div>"
      ],
      "text/plain": [
       "   id                name      date   manner_of_death       armed   age  \\\n",
       "0   3          Tim Elliot  02/01/15              shot         gun  53.0   \n",
       "1   4    Lewis Lee Lembke  02/01/15              shot         gun  47.0   \n",
       "2   5  John Paul Quintero  03/01/15  shot and Tasered     unarmed  23.0   \n",
       "3   8     Matthew Hoffman  04/01/15              shot  toy weapon  32.0   \n",
       "4   9   Michael Rodriguez  04/01/15              shot    nail gun  39.0   \n",
       "\n",
       "  gender race           city state  signs_of_mental_illness threat_level  \\\n",
       "0      M    A        Shelton    WA                     True       attack   \n",
       "1      M    W          Aloha    OR                    False       attack   \n",
       "2      M    H        Wichita    KS                    False        other   \n",
       "3      M    W  San Francisco    CA                     True       attack   \n",
       "4      M    H          Evans    CO                    False       attack   \n",
       "\n",
       "          flee  body_camera  \n",
       "0  Not fleeing        False  \n",
       "1  Not fleeing        False  \n",
       "2  Not fleeing        False  \n",
       "3  Not fleeing        False  \n",
       "4  Not fleeing        False  "
      ]
     },
     "execution_count": 9,
     "metadata": {},
     "output_type": "execute_result"
    }
   ],
   "source": [
    "# (Optional) Use this code cell for any additional work.\n",
    "police_killings.head()"
   ]
  },
  {
   "cell_type": "code",
   "execution_count": 10,
   "id": "ce5655ca",
   "metadata": {
    "execution": {
     "iopub.execute_input": "2022-09-19T16:41:35.063231Z",
     "iopub.status.busy": "2022-09-19T16:41:35.062819Z",
     "iopub.status.idle": "2022-09-19T16:41:35.067573Z",
     "shell.execute_reply": "2022-09-19T16:41:35.066354Z"
    },
    "papermill": {
     "duration": 0.015443,
     "end_time": "2022-09-19T16:41:35.070302",
     "exception": false,
     "start_time": "2022-09-19T16:41:35.054859",
     "status": "completed"
    },
    "tags": []
   },
   "outputs": [],
   "source": [
    "# Lines below will give you a hint or solution code\n",
    "#q2.hint()\n",
    "#q2.solution()"
   ]
  },
  {
   "cell_type": "markdown",
   "id": "ae43bc3f",
   "metadata": {
    "papermill": {
     "duration": 0.007056,
     "end_time": "2022-09-19T16:41:35.084565",
     "exception": false,
     "start_time": "2022-09-19T16:41:35.077509",
     "status": "completed"
    },
    "tags": []
   },
   "source": [
    "# 3) Saving your files with UTF-8 encoding\n",
    "\n",
    "Save a version of the police killings dataset to CSV with UTF-8 encoding.  Your answer will be marked correct after saving this file.  \n",
    "\n",
    "Note: When using the `to_csv()` method, supply only the name of the file (e.g., `\"my_file.csv\"`).  This saves the file at the filepath `\"/kaggle/working/my_file.csv\"`."
   ]
  },
  {
   "cell_type": "code",
   "execution_count": 11,
   "id": "02ea94c5",
   "metadata": {
    "execution": {
     "iopub.execute_input": "2022-09-19T16:41:35.100246Z",
     "iopub.status.busy": "2022-09-19T16:41:35.099815Z",
     "iopub.status.idle": "2022-09-19T16:41:35.136700Z",
     "shell.execute_reply": "2022-09-19T16:41:35.135406Z"
    },
    "papermill": {
     "duration": 0.047375,
     "end_time": "2022-09-19T16:41:35.139119",
     "exception": false,
     "start_time": "2022-09-19T16:41:35.091744",
     "status": "completed"
    },
    "tags": []
   },
   "outputs": [
    {
     "data": {
      "application/javascript": [
       "parent.postMessage({\"jupyterEvent\": \"custom.exercise_interaction\", \"data\": {\"outcomeType\": 1, \"valueTowardsCompletion\": 0.3333333333333333, \"interactionType\": 1, \"questionType\": 2, \"questionId\": \"3_SaveCSV\", \"learnToolsVersion\": \"0.3.4\", \"failureMessage\": \"\", \"exceptionClass\": \"\", \"trace\": \"\"}}, \"*\")"
      ],
      "text/plain": [
       "<IPython.core.display.Javascript object>"
      ]
     },
     "metadata": {},
     "output_type": "display_data"
    },
    {
     "data": {
      "text/markdown": [
       "<span style=\"color:#33cc33\">Correct</span>"
      ],
      "text/plain": [
       "Correct"
      ]
     },
     "metadata": {},
     "output_type": "display_data"
    }
   ],
   "source": [
    "# TODO: Save the police killings dataset to CSV\n",
    "police_killings.to_csv(\"/kaggle/working/my_file.csv\")\n",
    "\n",
    "# Check your answer\n",
    "q3.check()"
   ]
  },
  {
   "cell_type": "code",
   "execution_count": 12,
   "id": "b449a3ef",
   "metadata": {
    "execution": {
     "iopub.execute_input": "2022-09-19T16:41:35.154927Z",
     "iopub.status.busy": "2022-09-19T16:41:35.154537Z",
     "iopub.status.idle": "2022-09-19T16:41:35.159078Z",
     "shell.execute_reply": "2022-09-19T16:41:35.157862Z"
    },
    "papermill": {
     "duration": 0.015462,
     "end_time": "2022-09-19T16:41:35.161565",
     "exception": false,
     "start_time": "2022-09-19T16:41:35.146103",
     "status": "completed"
    },
    "tags": []
   },
   "outputs": [],
   "source": [
    "# Lines below will give you a hint or solution code\n",
    "#q3.hint()\n",
    "#q3.solution()"
   ]
  },
  {
   "cell_type": "markdown",
   "id": "f1a1c49b",
   "metadata": {
    "papermill": {
     "duration": 0.00658,
     "end_time": "2022-09-19T16:41:35.175221",
     "exception": false,
     "start_time": "2022-09-19T16:41:35.168641",
     "status": "completed"
    },
    "tags": []
   },
   "source": [
    "# (Optional) More practice\n",
    "\n",
    "Check out [this dataset of files in different character encodings](https://www.kaggle.com/rtatman/character-encoding-examples). Can you read in all the files with their original encodings and them save them out as UTF-8 files?\n",
    "\n",
    "If you have a file that's in UTF-8 but has just a couple of weird-looking characters in it, you can try out the [ftfy module](https://ftfy.readthedocs.io/en/latest/#) and see if it helps. \n",
    "\n",
    "# Keep going\n",
    "\n",
    "In the final lesson, learn how to [**clean up inconsistent text entries**](https://www.kaggle.com/alexisbcook/inconsistent-data-entry) in your dataset."
   ]
  },
  {
   "cell_type": "markdown",
   "id": "99f348f8",
   "metadata": {
    "papermill": {
     "duration": 0.00653,
     "end_time": "2022-09-19T16:41:35.188581",
     "exception": false,
     "start_time": "2022-09-19T16:41:35.182051",
     "status": "completed"
    },
    "tags": []
   },
   "source": [
    "---\n",
    "\n",
    "\n",
    "\n",
    "\n",
    "*Have questions or comments? Visit the [course discussion forum](https://www.kaggle.com/learn/data-cleaning/discussion) to chat with other learners.*"
   ]
  }
 ],
 "metadata": {
  "kernelspec": {
   "display_name": "Python 3",
   "language": "python",
   "name": "python3"
  },
  "language_info": {
   "codemirror_mode": {
    "name": "ipython",
    "version": 3
   },
   "file_extension": ".py",
   "mimetype": "text/x-python",
   "name": "python",
   "nbconvert_exporter": "python",
   "pygments_lexer": "ipython3",
   "version": "3.7.12"
  },
  "papermill": {
   "default_parameters": {},
   "duration": 11.006894,
   "end_time": "2022-09-19T16:41:35.817893",
   "environment_variables": {},
   "exception": null,
   "input_path": "__notebook__.ipynb",
   "output_path": "__notebook__.ipynb",
   "parameters": {},
   "start_time": "2022-09-19T16:41:24.810999",
   "version": "2.3.4"
  }
 },
 "nbformat": 4,
 "nbformat_minor": 5
}
