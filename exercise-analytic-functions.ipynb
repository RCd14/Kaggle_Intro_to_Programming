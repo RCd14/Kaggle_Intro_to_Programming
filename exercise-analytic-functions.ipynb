{
 "cells": [
  {
   "cell_type": "markdown",
   "id": "60922a9e",
   "metadata": {
    "papermill": {
     "duration": 0.005415,
     "end_time": "2022-09-26T23:50:50.211359",
     "exception": false,
     "start_time": "2022-09-26T23:50:50.205944",
     "status": "completed"
    },
    "tags": []
   },
   "source": [
    "**This notebook is an exercise in the [Advanced SQL](https://www.kaggle.com/learn/advanced-sql) course.  You can reference the tutorial at [this link](https://www.kaggle.com/alexisbcook/analytic-functions).**\n",
    "\n",
    "---\n"
   ]
  },
  {
   "cell_type": "markdown",
   "id": "f955f017",
   "metadata": {
    "papermill": {
     "duration": 0.004212,
     "end_time": "2022-09-26T23:50:50.219621",
     "exception": false,
     "start_time": "2022-09-26T23:50:50.215409",
     "status": "completed"
    },
    "tags": []
   },
   "source": [
    "# Introduction\n",
    "\n",
    "Here, you'll use window functions to answer questions about the [Chicago Taxi Trips](https://www.kaggle.com/chicago/chicago-taxi-trips-bq) dataset.\n",
    "\n",
    "Before you get started, run the code cell below to set everything up."
   ]
  },
  {
   "cell_type": "code",
   "execution_count": 1,
   "id": "fad12826",
   "metadata": {
    "execution": {
     "iopub.execute_input": "2022-09-26T23:50:50.229933Z",
     "iopub.status.busy": "2022-09-26T23:50:50.229292Z",
     "iopub.status.idle": "2022-09-26T23:51:11.576448Z",
     "shell.execute_reply": "2022-09-26T23:51:11.574887Z"
    },
    "papermill": {
     "duration": 21.355541,
     "end_time": "2022-09-26T23:51:11.579151",
     "exception": false,
     "start_time": "2022-09-26T23:50:50.223610",
     "status": "completed"
    },
    "tags": []
   },
   "outputs": [
    {
     "name": "stdout",
     "output_type": "stream",
     "text": [
      "Using Kaggle's public dataset BigQuery integration.\n"
     ]
    },
    {
     "name": "stderr",
     "output_type": "stream",
     "text": [
      "/opt/conda/lib/python3.7/site-packages/google/cloud/bigquery/client.py:440: UserWarning: Cannot create BigQuery Storage client, the dependency google-cloud-bigquery-storage is not installed.\n",
      "  \"Cannot create BigQuery Storage client, the dependency \"\n"
     ]
    },
    {
     "name": "stdout",
     "output_type": "stream",
     "text": [
      "Setup Complete\n"
     ]
    }
   ],
   "source": [
    "# Set up feedback system\n",
    "from learntools.core import binder\n",
    "binder.bind(globals())\n",
    "from learntools.sql_advanced.ex2 import *\n",
    "print(\"Setup Complete\")"
   ]
  },
  {
   "cell_type": "markdown",
   "id": "74f718a7",
   "metadata": {
    "papermill": {
     "duration": 0.003825,
     "end_time": "2022-09-26T23:51:11.587423",
     "exception": false,
     "start_time": "2022-09-26T23:51:11.583598",
     "status": "completed"
    },
    "tags": []
   },
   "source": [
    "The following code cell fetches the `taxi_trips` table from the `chicago_taxi_trips` dataset. We also preview the first five rows of the table.  You'll use the table to answer the questions below."
   ]
  },
  {
   "cell_type": "code",
   "execution_count": 2,
   "id": "73c53752",
   "metadata": {
    "execution": {
     "iopub.execute_input": "2022-09-26T23:51:11.597728Z",
     "iopub.status.busy": "2022-09-26T23:51:11.597339Z",
     "iopub.status.idle": "2022-09-26T23:51:13.284937Z",
     "shell.execute_reply": "2022-09-26T23:51:13.283754Z"
    },
    "papermill": {
     "duration": 1.696774,
     "end_time": "2022-09-26T23:51:13.288409",
     "exception": false,
     "start_time": "2022-09-26T23:51:11.591635",
     "status": "completed"
    },
    "tags": []
   },
   "outputs": [
    {
     "name": "stdout",
     "output_type": "stream",
     "text": [
      "Using Kaggle's public dataset BigQuery integration.\n"
     ]
    },
    {
     "name": "stderr",
     "output_type": "stream",
     "text": [
      "/opt/conda/lib/python3.7/site-packages/ipykernel_launcher.py:19: UserWarning: Cannot use bqstorage_client if max_results is set, reverting to fetching data with the tabledata.list endpoint.\n"
     ]
    },
    {
     "data": {
      "text/html": [
       "<div>\n",
       "<style scoped>\n",
       "    .dataframe tbody tr th:only-of-type {\n",
       "        vertical-align: middle;\n",
       "    }\n",
       "\n",
       "    .dataframe tbody tr th {\n",
       "        vertical-align: top;\n",
       "    }\n",
       "\n",
       "    .dataframe thead th {\n",
       "        text-align: right;\n",
       "    }\n",
       "</style>\n",
       "<table border=\"1\" class=\"dataframe\">\n",
       "  <thead>\n",
       "    <tr style=\"text-align: right;\">\n",
       "      <th></th>\n",
       "      <th>unique_key</th>\n",
       "      <th>taxi_id</th>\n",
       "      <th>trip_start_timestamp</th>\n",
       "      <th>trip_end_timestamp</th>\n",
       "      <th>trip_seconds</th>\n",
       "      <th>trip_miles</th>\n",
       "      <th>pickup_census_tract</th>\n",
       "      <th>dropoff_census_tract</th>\n",
       "      <th>pickup_community_area</th>\n",
       "      <th>dropoff_community_area</th>\n",
       "      <th>...</th>\n",
       "      <th>extras</th>\n",
       "      <th>trip_total</th>\n",
       "      <th>payment_type</th>\n",
       "      <th>company</th>\n",
       "      <th>pickup_latitude</th>\n",
       "      <th>pickup_longitude</th>\n",
       "      <th>pickup_location</th>\n",
       "      <th>dropoff_latitude</th>\n",
       "      <th>dropoff_longitude</th>\n",
       "      <th>dropoff_location</th>\n",
       "    </tr>\n",
       "  </thead>\n",
       "  <tbody>\n",
       "    <tr>\n",
       "      <th>0</th>\n",
       "      <td>839771e41537432c54c7099e8ea1bf43887ca484</td>\n",
       "      <td>92195ba6d79380aa9da1f2db98ac05a3eff859c4151f24...</td>\n",
       "      <td>2015-05-01 18:00:00+00:00</td>\n",
       "      <td>2015-05-01 18:00:00+00:00</td>\n",
       "      <td>0</td>\n",
       "      <td>0.0</td>\n",
       "      <td>NaN</td>\n",
       "      <td>NaN</td>\n",
       "      <td>NaN</td>\n",
       "      <td>NaN</td>\n",
       "      <td>...</td>\n",
       "      <td>0.0</td>\n",
       "      <td>11.82</td>\n",
       "      <td>Credit Card</td>\n",
       "      <td>Chicago Elite Cab Corp. (Chicago Carriag</td>\n",
       "      <td>NaN</td>\n",
       "      <td>NaN</td>\n",
       "      <td>None</td>\n",
       "      <td>NaN</td>\n",
       "      <td>NaN</td>\n",
       "      <td>None</td>\n",
       "    </tr>\n",
       "    <tr>\n",
       "      <th>1</th>\n",
       "      <td>9437e8feb58e5cd3cb22a9bb91cbcf3bc60ee9a4</td>\n",
       "      <td>3e0ecc411309f519aa2278ee885227cde56891acadc652...</td>\n",
       "      <td>2015-05-03 11:15:00+00:00</td>\n",
       "      <td>2015-05-03 11:15:00+00:00</td>\n",
       "      <td>0</td>\n",
       "      <td>0.0</td>\n",
       "      <td>NaN</td>\n",
       "      <td>NaN</td>\n",
       "      <td>NaN</td>\n",
       "      <td>NaN</td>\n",
       "      <td>...</td>\n",
       "      <td>0.0</td>\n",
       "      <td>13.85</td>\n",
       "      <td>Credit Card</td>\n",
       "      <td>Suburban Dispatch LLC</td>\n",
       "      <td>NaN</td>\n",
       "      <td>NaN</td>\n",
       "      <td>None</td>\n",
       "      <td>NaN</td>\n",
       "      <td>NaN</td>\n",
       "      <td>None</td>\n",
       "    </tr>\n",
       "    <tr>\n",
       "      <th>2</th>\n",
       "      <td>8162b1f82324cf1270b4d1d7a5498ea5150501cf</td>\n",
       "      <td>36dee7e88e2048dfeb8a98c9e420a1600544a8d4f21fe6...</td>\n",
       "      <td>2015-05-09 01:15:00+00:00</td>\n",
       "      <td>2015-05-09 01:15:00+00:00</td>\n",
       "      <td>0</td>\n",
       "      <td>0.0</td>\n",
       "      <td>NaN</td>\n",
       "      <td>NaN</td>\n",
       "      <td>NaN</td>\n",
       "      <td>NaN</td>\n",
       "      <td>...</td>\n",
       "      <td>0.0</td>\n",
       "      <td>20.22</td>\n",
       "      <td>Credit Card</td>\n",
       "      <td>Chicago Elite Cab Corp. (Chicago Carriag</td>\n",
       "      <td>NaN</td>\n",
       "      <td>NaN</td>\n",
       "      <td>None</td>\n",
       "      <td>NaN</td>\n",
       "      <td>NaN</td>\n",
       "      <td>None</td>\n",
       "    </tr>\n",
       "    <tr>\n",
       "      <th>3</th>\n",
       "      <td>13f8cff0ef83a0e6feed5f67193e5b7e705eb7ab</td>\n",
       "      <td>35f259e52dda4ae7ef17bbcf2f61be54445372dc471929...</td>\n",
       "      <td>2015-04-14 14:45:00+00:00</td>\n",
       "      <td>2015-04-14 14:45:00+00:00</td>\n",
       "      <td>0</td>\n",
       "      <td>0.0</td>\n",
       "      <td>NaN</td>\n",
       "      <td>NaN</td>\n",
       "      <td>NaN</td>\n",
       "      <td>NaN</td>\n",
       "      <td>...</td>\n",
       "      <td>0.0</td>\n",
       "      <td>6.85</td>\n",
       "      <td>Credit Card</td>\n",
       "      <td>Chicago Elite Cab Corp. (Chicago Carriag</td>\n",
       "      <td>NaN</td>\n",
       "      <td>NaN</td>\n",
       "      <td>None</td>\n",
       "      <td>NaN</td>\n",
       "      <td>NaN</td>\n",
       "      <td>None</td>\n",
       "    </tr>\n",
       "    <tr>\n",
       "      <th>4</th>\n",
       "      <td>f4586d5fba35a944615fc6e75fc7c57a69cf9fa8</td>\n",
       "      <td>5b54ed6a93f455a3a35cec10d5708caa67ac3dfaf6727a...</td>\n",
       "      <td>2015-08-26 11:00:00+00:00</td>\n",
       "      <td>2015-08-26 11:15:00+00:00</td>\n",
       "      <td>540</td>\n",
       "      <td>1.7</td>\n",
       "      <td>NaN</td>\n",
       "      <td>NaN</td>\n",
       "      <td>NaN</td>\n",
       "      <td>NaN</td>\n",
       "      <td>...</td>\n",
       "      <td>0.0</td>\n",
       "      <td>7.45</td>\n",
       "      <td>Cash</td>\n",
       "      <td>None</td>\n",
       "      <td>NaN</td>\n",
       "      <td>NaN</td>\n",
       "      <td>None</td>\n",
       "      <td>NaN</td>\n",
       "      <td>NaN</td>\n",
       "      <td>None</td>\n",
       "    </tr>\n",
       "  </tbody>\n",
       "</table>\n",
       "<p>5 rows × 23 columns</p>\n",
       "</div>"
      ],
      "text/plain": [
       "                                 unique_key  \\\n",
       "0  839771e41537432c54c7099e8ea1bf43887ca484   \n",
       "1  9437e8feb58e5cd3cb22a9bb91cbcf3bc60ee9a4   \n",
       "2  8162b1f82324cf1270b4d1d7a5498ea5150501cf   \n",
       "3  13f8cff0ef83a0e6feed5f67193e5b7e705eb7ab   \n",
       "4  f4586d5fba35a944615fc6e75fc7c57a69cf9fa8   \n",
       "\n",
       "                                             taxi_id  \\\n",
       "0  92195ba6d79380aa9da1f2db98ac05a3eff859c4151f24...   \n",
       "1  3e0ecc411309f519aa2278ee885227cde56891acadc652...   \n",
       "2  36dee7e88e2048dfeb8a98c9e420a1600544a8d4f21fe6...   \n",
       "3  35f259e52dda4ae7ef17bbcf2f61be54445372dc471929...   \n",
       "4  5b54ed6a93f455a3a35cec10d5708caa67ac3dfaf6727a...   \n",
       "\n",
       "       trip_start_timestamp        trip_end_timestamp  trip_seconds  \\\n",
       "0 2015-05-01 18:00:00+00:00 2015-05-01 18:00:00+00:00             0   \n",
       "1 2015-05-03 11:15:00+00:00 2015-05-03 11:15:00+00:00             0   \n",
       "2 2015-05-09 01:15:00+00:00 2015-05-09 01:15:00+00:00             0   \n",
       "3 2015-04-14 14:45:00+00:00 2015-04-14 14:45:00+00:00             0   \n",
       "4 2015-08-26 11:00:00+00:00 2015-08-26 11:15:00+00:00           540   \n",
       "\n",
       "   trip_miles  pickup_census_tract  dropoff_census_tract  \\\n",
       "0         0.0                  NaN                   NaN   \n",
       "1         0.0                  NaN                   NaN   \n",
       "2         0.0                  NaN                   NaN   \n",
       "3         0.0                  NaN                   NaN   \n",
       "4         1.7                  NaN                   NaN   \n",
       "\n",
       "   pickup_community_area  dropoff_community_area  ...  extras  trip_total  \\\n",
       "0                    NaN                     NaN  ...     0.0       11.82   \n",
       "1                    NaN                     NaN  ...     0.0       13.85   \n",
       "2                    NaN                     NaN  ...     0.0       20.22   \n",
       "3                    NaN                     NaN  ...     0.0        6.85   \n",
       "4                    NaN                     NaN  ...     0.0        7.45   \n",
       "\n",
       "   payment_type                                   company  pickup_latitude  \\\n",
       "0   Credit Card  Chicago Elite Cab Corp. (Chicago Carriag              NaN   \n",
       "1   Credit Card                     Suburban Dispatch LLC              NaN   \n",
       "2   Credit Card  Chicago Elite Cab Corp. (Chicago Carriag              NaN   \n",
       "3   Credit Card  Chicago Elite Cab Corp. (Chicago Carriag              NaN   \n",
       "4          Cash                                      None              NaN   \n",
       "\n",
       "  pickup_longitude pickup_location  dropoff_latitude  dropoff_longitude  \\\n",
       "0              NaN            None               NaN                NaN   \n",
       "1              NaN            None               NaN                NaN   \n",
       "2              NaN            None               NaN                NaN   \n",
       "3              NaN            None               NaN                NaN   \n",
       "4              NaN            None               NaN                NaN   \n",
       "\n",
       "  dropoff_location  \n",
       "0             None  \n",
       "1             None  \n",
       "2             None  \n",
       "3             None  \n",
       "4             None  \n",
       "\n",
       "[5 rows x 23 columns]"
      ]
     },
     "execution_count": 2,
     "metadata": {},
     "output_type": "execute_result"
    }
   ],
   "source": [
    "from google.cloud import bigquery\n",
    "\n",
    "# Create a \"Client\" object\n",
    "client = bigquery.Client()\n",
    "\n",
    "# Construct a reference to the \"chicago_taxi_trips\" dataset\n",
    "dataset_ref = client.dataset(\"chicago_taxi_trips\", project=\"bigquery-public-data\")\n",
    "\n",
    "# API request - fetch the dataset\n",
    "dataset = client.get_dataset(dataset_ref)\n",
    "\n",
    "# Construct a reference to the \"taxi_trips\" table\n",
    "table_ref = dataset_ref.table(\"taxi_trips\")\n",
    "\n",
    "# API request - fetch the table\n",
    "table = client.get_table(table_ref)\n",
    "\n",
    "# Preview the first five lines of the table\n",
    "client.list_rows(table, max_results=5).to_dataframe()"
   ]
  },
  {
   "cell_type": "markdown",
   "id": "3752212b",
   "metadata": {
    "papermill": {
     "duration": 0.004348,
     "end_time": "2022-09-26T23:51:13.297709",
     "exception": false,
     "start_time": "2022-09-26T23:51:13.293361",
     "status": "completed"
    },
    "tags": []
   },
   "source": [
    "# Exercises\n",
    "\n",
    "### 1) How can you predict the demand for taxis?\n",
    "\n",
    "Say you work for a taxi company, and you're interested in predicting the demand for taxis.  Towards this goal, you'd like to create a plot that shows a rolling average of the daily number of taxi trips.  Amend the (partial) query below to return a DataFrame with two columns:\n",
    "- `trip_date` - contains one entry for each date from January 1, 2016, to December 31, 2017.\n",
    "- `avg_num_trips` - shows the average number of daily trips, calculated over a window including the value for the current date, along with the values for the preceding 15 days and the following 15 days, as long as the days fit within the two-year time frame.  For instance, when calculating the value in this column for January 5, 2016, the window will include the number of trips for the preceding 4 days, the current date, and the following 15 days.\n",
    "\n",
    "This query is partially completed for you, and you need only write the part that calculates the `avg_num_trips` column.  Note that this query uses a common table expression (CTE); if you need to review how to use CTEs, you're encouraged to check out [this tutorial](https://www.kaggle.com/dansbecker/as-with) in the [Intro to SQL](https://www.kaggle.com/learn/intro-to-sql) micro-course."
   ]
  },
  {
   "cell_type": "code",
   "execution_count": 3,
   "id": "15130083",
   "metadata": {
    "execution": {
     "iopub.execute_input": "2022-09-26T23:51:13.308465Z",
     "iopub.status.busy": "2022-09-26T23:51:13.308079Z",
     "iopub.status.idle": "2022-09-26T23:51:14.973377Z",
     "shell.execute_reply": "2022-09-26T23:51:14.972380Z"
    },
    "papermill": {
     "duration": 1.67376,
     "end_time": "2022-09-26T23:51:14.976041",
     "exception": false,
     "start_time": "2022-09-26T23:51:13.302281",
     "status": "completed"
    },
    "tags": []
   },
   "outputs": [
    {
     "name": "stderr",
     "output_type": "stream",
     "text": [
      "/opt/conda/lib/python3.7/site-packages/google/cloud/bigquery/client.py:440: UserWarning: Cannot create BigQuery Storage client, the dependency google-cloud-bigquery-storage is not installed.\n",
      "  \"Cannot create BigQuery Storage client, the dependency \"\n"
     ]
    },
    {
     "data": {
      "text/html": [
       "<div>\n",
       "<style scoped>\n",
       "    .dataframe tbody tr th:only-of-type {\n",
       "        vertical-align: middle;\n",
       "    }\n",
       "\n",
       "    .dataframe tbody tr th {\n",
       "        vertical-align: top;\n",
       "    }\n",
       "\n",
       "    .dataframe thead th {\n",
       "        text-align: right;\n",
       "    }\n",
       "</style>\n",
       "<table border=\"1\" class=\"dataframe\">\n",
       "  <thead>\n",
       "    <tr style=\"text-align: right;\">\n",
       "      <th></th>\n",
       "      <th>trip_date</th>\n",
       "      <th>avg_num_trips</th>\n",
       "    </tr>\n",
       "  </thead>\n",
       "  <tbody>\n",
       "    <tr>\n",
       "      <th>0</th>\n",
       "      <td>2016-11-12</td>\n",
       "      <td>79867.225806</td>\n",
       "    </tr>\n",
       "    <tr>\n",
       "      <th>1</th>\n",
       "      <td>2017-12-25</td>\n",
       "      <td>52297.136364</td>\n",
       "    </tr>\n",
       "    <tr>\n",
       "      <th>2</th>\n",
       "      <td>2016-02-24</td>\n",
       "      <td>92173.580645</td>\n",
       "    </tr>\n",
       "    <tr>\n",
       "      <th>3</th>\n",
       "      <td>2016-11-21</td>\n",
       "      <td>78070.677419</td>\n",
       "    </tr>\n",
       "    <tr>\n",
       "      <th>4</th>\n",
       "      <td>2016-08-06</td>\n",
       "      <td>88242.129032</td>\n",
       "    </tr>\n",
       "  </tbody>\n",
       "</table>\n",
       "</div>"
      ],
      "text/plain": [
       "    trip_date  avg_num_trips\n",
       "0  2016-11-12   79867.225806\n",
       "1  2017-12-25   52297.136364\n",
       "2  2016-02-24   92173.580645\n",
       "3  2016-11-21   78070.677419\n",
       "4  2016-08-06   88242.129032"
      ]
     },
     "metadata": {},
     "output_type": "display_data"
    },
    {
     "data": {
      "application/javascript": [
       "parent.postMessage({\"jupyterEvent\": \"custom.exercise_interaction\", \"data\": {\"outcomeType\": 1, \"valueTowardsCompletion\": 0.3333333333333333, \"interactionType\": 1, \"questionType\": 2, \"questionId\": \"1_TaxiDemand\", \"learnToolsVersion\": \"0.3.4\", \"failureMessage\": \"\", \"exceptionClass\": \"\", \"trace\": \"\"}}, \"*\")"
      ],
      "text/plain": [
       "<IPython.core.display.Javascript object>"
      ]
     },
     "metadata": {},
     "output_type": "display_data"
    },
    {
     "data": {
      "text/markdown": [
       "<span style=\"color:#33cc33\">Correct</span>"
      ],
      "text/plain": [
       "Correct"
      ]
     },
     "metadata": {},
     "output_type": "display_data"
    }
   ],
   "source": [
    "# Fill in the blank below\n",
    "avg_num_trips_query = \"\"\"\n",
    "                      WITH trips_by_day AS\n",
    "                      (\n",
    "                      SELECT DATE(trip_start_timestamp) AS trip_date,\n",
    "                          COUNT(*) as num_trips\n",
    "                      FROM `bigquery-public-data.chicago_taxi_trips.taxi_trips`\n",
    "                      WHERE trip_start_timestamp >= '2016-01-01' AND trip_start_timestamp < '2018-01-01'\n",
    "                      GROUP BY trip_date\n",
    "                      ORDER BY trip_date\n",
    "                      )\n",
    "                      SELECT trip_date,\n",
    "                          AVG(num_trips)\n",
    "                          OVER (\n",
    "                                ORDER BY trip_date\n",
    "                                ROWS BETWEEN 15 PRECEDING AND 15 FOLLOWING\n",
    "                               ) AS avg_num_trips\n",
    "                      FROM trips_by_day\n",
    "                      \"\"\"\n",
    "\n",
    "# Check your answer\n",
    "q_1.check()"
   ]
  },
  {
   "cell_type": "code",
   "execution_count": 4,
   "id": "c644a0b1",
   "metadata": {
    "execution": {
     "iopub.execute_input": "2022-09-26T23:51:14.988507Z",
     "iopub.status.busy": "2022-09-26T23:51:14.988131Z",
     "iopub.status.idle": "2022-09-26T23:51:14.997242Z",
     "shell.execute_reply": "2022-09-26T23:51:14.996006Z"
    },
    "papermill": {
     "duration": 0.018544,
     "end_time": "2022-09-26T23:51:15.000076",
     "exception": false,
     "start_time": "2022-09-26T23:51:14.981532",
     "status": "completed"
    },
    "tags": []
   },
   "outputs": [
    {
     "data": {
      "application/javascript": [
       "parent.postMessage({\"jupyterEvent\": \"custom.exercise_interaction\", \"data\": {\"interactionType\": 2, \"questionType\": 2, \"questionId\": \"1_TaxiDemand\", \"learnToolsVersion\": \"0.3.4\", \"valueTowardsCompletion\": 0.0, \"failureMessage\": \"\", \"exceptionClass\": \"\", \"trace\": \"\", \"outcomeType\": 4}}, \"*\")"
      ],
      "text/plain": [
       "<IPython.core.display.Javascript object>"
      ]
     },
     "metadata": {},
     "output_type": "display_data"
    },
    {
     "data": {
      "text/markdown": [
       "<span style=\"color:#3366cc\">Hint:</span> Use the **AVG()** function. Write an **OVER** clause with that orders the rows with the `trip_date` column and uses a window that includes the 15 preceding rows, the current row, and the following 15 rows."
      ],
      "text/plain": [
       "Hint: Use the **AVG()** function. Write an **OVER** clause with that orders the rows with the `trip_date` column and uses a window that includes the 15 preceding rows, the current row, and the following 15 rows."
      ]
     },
     "metadata": {},
     "output_type": "display_data"
    }
   ],
   "source": [
    "# Lines below will give you a hint or solution code\n",
    "q_1.hint()\n",
    "#q_1.solution()"
   ]
  },
  {
   "cell_type": "markdown",
   "id": "63e1c3e3",
   "metadata": {
    "papermill": {
     "duration": 0.004952,
     "end_time": "2022-09-26T23:51:15.010600",
     "exception": false,
     "start_time": "2022-09-26T23:51:15.005648",
     "status": "completed"
    },
    "tags": []
   },
   "source": [
    "### 2) Can you separate and order trips by community area?\n",
    "\n",
    "The query below returns a DataFrame with three columns from the table: `pickup_community_area`, `trip_start_timestamp`, and `trip_end_timestamp`.  \n",
    "\n",
    "Amend the query to return an additional column called `trip_number` which shows the order in which the trips were taken from their respective community areas.  So, the first trip of the day originating from community area 1 should receive a value of 1; the second trip of the day from the same area should receive a value of 2.  Likewise, the first trip of the day from community area 2 should receive a value of 1, and so on.\n",
    "\n",
    "Note that there are many numbering functions that can be used to solve this problem (depending on how you want to deal with trips that started at the same time from the same community area); to answer this question, please use the **RANK()** function."
   ]
  },
  {
   "cell_type": "code",
   "execution_count": 5,
   "id": "5225644c",
   "metadata": {
    "execution": {
     "iopub.execute_input": "2022-09-26T23:51:15.023001Z",
     "iopub.status.busy": "2022-09-26T23:51:15.022603Z",
     "iopub.status.idle": "2022-09-26T23:51:19.776663Z",
     "shell.execute_reply": "2022-09-26T23:51:19.775443Z"
    },
    "papermill": {
     "duration": 4.763512,
     "end_time": "2022-09-26T23:51:19.779312",
     "exception": false,
     "start_time": "2022-09-26T23:51:15.015800",
     "status": "completed"
    },
    "tags": []
   },
   "outputs": [
    {
     "name": "stderr",
     "output_type": "stream",
     "text": [
      "/opt/conda/lib/python3.7/site-packages/google/cloud/bigquery/client.py:440: UserWarning: Cannot create BigQuery Storage client, the dependency google-cloud-bigquery-storage is not installed.\n",
      "  \"Cannot create BigQuery Storage client, the dependency \"\n"
     ]
    },
    {
     "data": {
      "text/html": [
       "<div>\n",
       "<style scoped>\n",
       "    .dataframe tbody tr th:only-of-type {\n",
       "        vertical-align: middle;\n",
       "    }\n",
       "\n",
       "    .dataframe tbody tr th {\n",
       "        vertical-align: top;\n",
       "    }\n",
       "\n",
       "    .dataframe thead th {\n",
       "        text-align: right;\n",
       "    }\n",
       "</style>\n",
       "<table border=\"1\" class=\"dataframe\">\n",
       "  <thead>\n",
       "    <tr style=\"text-align: right;\">\n",
       "      <th></th>\n",
       "      <th>pickup_community_area</th>\n",
       "      <th>trip_start_timestamp</th>\n",
       "      <th>trip_end_timestamp</th>\n",
       "      <th>trip_number</th>\n",
       "    </tr>\n",
       "  </thead>\n",
       "  <tbody>\n",
       "    <tr>\n",
       "      <th>0</th>\n",
       "      <td>68.0</td>\n",
       "      <td>2017-05-01 05:45:00+00:00</td>\n",
       "      <td>2017-05-01 06:00:00+00:00</td>\n",
       "      <td>1</td>\n",
       "    </tr>\n",
       "    <tr>\n",
       "      <th>1</th>\n",
       "      <td>68.0</td>\n",
       "      <td>2017-05-01 07:30:00+00:00</td>\n",
       "      <td>2017-05-01 07:45:00+00:00</td>\n",
       "      <td>2</td>\n",
       "    </tr>\n",
       "    <tr>\n",
       "      <th>2</th>\n",
       "      <td>68.0</td>\n",
       "      <td>2017-05-01 08:15:00+00:00</td>\n",
       "      <td>2017-05-01 08:45:00+00:00</td>\n",
       "      <td>3</td>\n",
       "    </tr>\n",
       "    <tr>\n",
       "      <th>3</th>\n",
       "      <td>68.0</td>\n",
       "      <td>2017-05-01 08:15:00+00:00</td>\n",
       "      <td>2017-05-01 09:00:00+00:00</td>\n",
       "      <td>3</td>\n",
       "    </tr>\n",
       "    <tr>\n",
       "      <th>4</th>\n",
       "      <td>68.0</td>\n",
       "      <td>2017-05-01 08:30:00+00:00</td>\n",
       "      <td>2017-05-01 09:00:00+00:00</td>\n",
       "      <td>5</td>\n",
       "    </tr>\n",
       "  </tbody>\n",
       "</table>\n",
       "</div>"
      ],
      "text/plain": [
       "   pickup_community_area      trip_start_timestamp        trip_end_timestamp  \\\n",
       "0                   68.0 2017-05-01 05:45:00+00:00 2017-05-01 06:00:00+00:00   \n",
       "1                   68.0 2017-05-01 07:30:00+00:00 2017-05-01 07:45:00+00:00   \n",
       "2                   68.0 2017-05-01 08:15:00+00:00 2017-05-01 08:45:00+00:00   \n",
       "3                   68.0 2017-05-01 08:15:00+00:00 2017-05-01 09:00:00+00:00   \n",
       "4                   68.0 2017-05-01 08:30:00+00:00 2017-05-01 09:00:00+00:00   \n",
       "\n",
       "   trip_number  \n",
       "0            1  \n",
       "1            2  \n",
       "2            3  \n",
       "3            3  \n",
       "4            5  "
      ]
     },
     "metadata": {},
     "output_type": "display_data"
    },
    {
     "data": {
      "application/javascript": [
       "parent.postMessage({\"jupyterEvent\": \"custom.exercise_interaction\", \"data\": {\"outcomeType\": 1, \"valueTowardsCompletion\": 0.3333333333333333, \"interactionType\": 1, \"questionType\": 2, \"questionId\": \"2_CommunityArea\", \"learnToolsVersion\": \"0.3.4\", \"failureMessage\": \"\", \"exceptionClass\": \"\", \"trace\": \"\"}}, \"*\")"
      ],
      "text/plain": [
       "<IPython.core.display.Javascript object>"
      ]
     },
     "metadata": {},
     "output_type": "display_data"
    },
    {
     "data": {
      "text/markdown": [
       "<span style=\"color:#33cc33\">Correct</span>"
      ],
      "text/plain": [
       "Correct"
      ]
     },
     "metadata": {},
     "output_type": "display_data"
    }
   ],
   "source": [
    "# Amend the query below\n",
    "trip_number_query = \"\"\"\n",
    "                    SELECT pickup_community_area,\n",
    "                        trip_start_timestamp,\n",
    "                        trip_end_timestamp,\n",
    "                        RANK()\n",
    "                            OVER (\n",
    "                                  PARTITION BY pickup_community_area\n",
    "                                  ORDER BY trip_start_timestamp\n",
    "                                 ) AS trip_number\n",
    "                    FROM `bigquery-public-data.chicago_taxi_trips.taxi_trips`\n",
    "                    WHERE DATE(trip_start_timestamp) = '2017-05-01' \n",
    "                    \"\"\"\n",
    "\n",
    "# Check your answer\n",
    "q_2.check()"
   ]
  },
  {
   "cell_type": "code",
   "execution_count": 6,
   "id": "93c47740",
   "metadata": {
    "execution": {
     "iopub.execute_input": "2022-09-26T23:51:19.793460Z",
     "iopub.status.busy": "2022-09-26T23:51:19.793098Z",
     "iopub.status.idle": "2022-09-26T23:51:19.806776Z",
     "shell.execute_reply": "2022-09-26T23:51:19.805751Z"
    },
    "papermill": {
     "duration": 0.023721,
     "end_time": "2022-09-26T23:51:19.809360",
     "exception": false,
     "start_time": "2022-09-26T23:51:19.785639",
     "status": "completed"
    },
    "tags": []
   },
   "outputs": [
    {
     "data": {
      "application/javascript": [
       "parent.postMessage({\"jupyterEvent\": \"custom.exercise_interaction\", \"data\": {\"interactionType\": 2, \"questionType\": 2, \"questionId\": \"2_CommunityArea\", \"learnToolsVersion\": \"0.3.4\", \"valueTowardsCompletion\": 0.0, \"failureMessage\": \"\", \"exceptionClass\": \"\", \"trace\": \"\", \"outcomeType\": 4}}, \"*\")"
      ],
      "text/plain": [
       "<IPython.core.display.Javascript object>"
      ]
     },
     "metadata": {},
     "output_type": "display_data"
    },
    {
     "data": {
      "text/markdown": [
       "<span style=\"color:#3366cc\">Hint:</span> You don't need a **GROUP BY** clause.  Use the **RANK()** function.  Your **OVER** clause should order the rows by the `trip_start_timestamp` column and break the data into partitions based on `pickup_community_area`."
      ],
      "text/plain": [
       "Hint: You don't need a **GROUP BY** clause.  Use the **RANK()** function.  Your **OVER** clause should order the rows by the `trip_start_timestamp` column and break the data into partitions based on `pickup_community_area`."
      ]
     },
     "metadata": {},
     "output_type": "display_data"
    },
    {
     "data": {
      "application/javascript": [
       "parent.postMessage({\"jupyterEvent\": \"custom.exercise_interaction\", \"data\": {\"interactionType\": 3, \"questionType\": 2, \"questionId\": \"2_CommunityArea\", \"learnToolsVersion\": \"0.3.4\", \"valueTowardsCompletion\": 0.0, \"failureMessage\": \"\", \"exceptionClass\": \"\", \"trace\": \"\", \"outcomeType\": 4}}, \"*\")"
      ],
      "text/plain": [
       "<IPython.core.display.Javascript object>"
      ]
     },
     "metadata": {},
     "output_type": "display_data"
    },
    {
     "data": {
      "text/markdown": [
       "<span style=\"color:#33cc99\">Solution:</span> \n",
       "```python\n",
       "\n",
       "trip_number_query = \"\"\"\n",
       "                    SELECT pickup_community_area,\n",
       "                        trip_start_timestamp,\n",
       "                        trip_end_timestamp,\n",
       "                        RANK()\n",
       "                            OVER (\n",
       "                                  PARTITION BY pickup_community_area\n",
       "                                  ORDER BY trip_start_timestamp\n",
       "                                 ) AS trip_number\n",
       "                    FROM `bigquery-public-data.chicago_taxi_trips.taxi_trips`\n",
       "                    WHERE DATE(trip_start_timestamp) = '2017-05-01' \n",
       "                    \"\"\"\n",
       "\n",
       "trip_number_result = client.query(trip_number_query).result().to_dataframe()\n",
       "\n",
       "```"
      ],
      "text/plain": [
       "Solution: \n",
       "```python\n",
       "\n",
       "trip_number_query = \"\"\"\n",
       "                    SELECT pickup_community_area,\n",
       "                        trip_start_timestamp,\n",
       "                        trip_end_timestamp,\n",
       "                        RANK()\n",
       "                            OVER (\n",
       "                                  PARTITION BY pickup_community_area\n",
       "                                  ORDER BY trip_start_timestamp\n",
       "                                 ) AS trip_number\n",
       "                    FROM `bigquery-public-data.chicago_taxi_trips.taxi_trips`\n",
       "                    WHERE DATE(trip_start_timestamp) = '2017-05-01' \n",
       "                    \"\"\"\n",
       "\n",
       "trip_number_result = client.query(trip_number_query).result().to_dataframe()\n",
       "\n",
       "```"
      ]
     },
     "metadata": {},
     "output_type": "display_data"
    }
   ],
   "source": [
    "# Lines below will give you a hint or solution code\n",
    "q_2.hint()\n",
    "q_2.solution()"
   ]
  },
  {
   "cell_type": "markdown",
   "id": "2f7d5175",
   "metadata": {
    "papermill": {
     "duration": 0.006175,
     "end_time": "2022-09-26T23:51:19.822260",
     "exception": false,
     "start_time": "2022-09-26T23:51:19.816085",
     "status": "completed"
    },
    "tags": []
   },
   "source": [
    "### 3) How much time elapses between trips?\n",
    "\n",
    "The (partial) query in the code cell below shows, for each trip in the selected time frame, the corresponding `taxi_id`, `trip_start_timestamp`, and `trip_end_timestamp`. \n",
    "\n",
    "Your task in this exercise is to edit the query to include an additional `prev_break` column that shows the length of the break (in minutes) that the driver had before each trip started (this corresponds to the time between `trip_start_timestamp` of the current trip and `trip_end_timestamp` of the previous trip).  Partition the calculation by `taxi_id`, and order the results within each partition by `trip_start_timestamp`.\n",
    "\n",
    "Some sample results are shown below, where all rows correspond to the same driver (or `taxi_id`).  Take the time now to make sure that the values in the `prev_break` column make sense to you!\n",
    "\n",
    "![first_commands](https://i.imgur.com/qjvQzg8.png)\n",
    "\n",
    "Note that the first trip of the day for each driver should have a value of **NaN** (not a number) in the `prev_break` column."
   ]
  },
  {
   "cell_type": "code",
   "execution_count": 7,
   "id": "e18ee508",
   "metadata": {
    "execution": {
     "iopub.execute_input": "2022-09-26T23:51:19.837218Z",
     "iopub.status.busy": "2022-09-26T23:51:19.836800Z",
     "iopub.status.idle": "2022-09-26T23:51:32.805468Z",
     "shell.execute_reply": "2022-09-26T23:51:32.804140Z"
    },
    "papermill": {
     "duration": 12.97972,
     "end_time": "2022-09-26T23:51:32.808405",
     "exception": false,
     "start_time": "2022-09-26T23:51:19.828685",
     "status": "completed"
    },
    "tags": []
   },
   "outputs": [
    {
     "name": "stderr",
     "output_type": "stream",
     "text": [
      "/opt/conda/lib/python3.7/site-packages/google/cloud/bigquery/client.py:440: UserWarning: Cannot create BigQuery Storage client, the dependency google-cloud-bigquery-storage is not installed.\n",
      "  \"Cannot create BigQuery Storage client, the dependency \"\n"
     ]
    },
    {
     "data": {
      "text/html": [
       "<div>\n",
       "<style scoped>\n",
       "    .dataframe tbody tr th:only-of-type {\n",
       "        vertical-align: middle;\n",
       "    }\n",
       "\n",
       "    .dataframe tbody tr th {\n",
       "        vertical-align: top;\n",
       "    }\n",
       "\n",
       "    .dataframe thead th {\n",
       "        text-align: right;\n",
       "    }\n",
       "</style>\n",
       "<table border=\"1\" class=\"dataframe\">\n",
       "  <thead>\n",
       "    <tr style=\"text-align: right;\">\n",
       "      <th></th>\n",
       "      <th>taxi_id</th>\n",
       "      <th>trip_start_timestamp</th>\n",
       "      <th>trip_end_timestamp</th>\n",
       "      <th>prev_break</th>\n",
       "    </tr>\n",
       "  </thead>\n",
       "  <tbody>\n",
       "    <tr>\n",
       "      <th>0</th>\n",
       "      <td>17b5eecbb0769978354bdbe06cafb87b02f04e5f7bb96b...</td>\n",
       "      <td>2017-05-01 01:00:00+00:00</td>\n",
       "      <td>2017-05-01 01:15:00+00:00</td>\n",
       "      <td>NaN</td>\n",
       "    </tr>\n",
       "    <tr>\n",
       "      <th>1</th>\n",
       "      <td>17b5eecbb0769978354bdbe06cafb87b02f04e5f7bb96b...</td>\n",
       "      <td>2017-05-01 02:00:00+00:00</td>\n",
       "      <td>2017-05-01 02:15:00+00:00</td>\n",
       "      <td>45.0</td>\n",
       "    </tr>\n",
       "    <tr>\n",
       "      <th>2</th>\n",
       "      <td>17b5eecbb0769978354bdbe06cafb87b02f04e5f7bb96b...</td>\n",
       "      <td>2017-05-01 02:30:00+00:00</td>\n",
       "      <td>2017-05-01 02:30:00+00:00</td>\n",
       "      <td>15.0</td>\n",
       "    </tr>\n",
       "    <tr>\n",
       "      <th>3</th>\n",
       "      <td>17b5eecbb0769978354bdbe06cafb87b02f04e5f7bb96b...</td>\n",
       "      <td>2017-05-01 05:30:00+00:00</td>\n",
       "      <td>2017-05-01 06:00:00+00:00</td>\n",
       "      <td>180.0</td>\n",
       "    </tr>\n",
       "    <tr>\n",
       "      <th>4</th>\n",
       "      <td>1d9c117a4d3e05e04e1fd27b95acf6451c3b1bffb868c1...</td>\n",
       "      <td>2017-05-01 01:45:00+00:00</td>\n",
       "      <td>2017-05-01 02:15:00+00:00</td>\n",
       "      <td>NaN</td>\n",
       "    </tr>\n",
       "  </tbody>\n",
       "</table>\n",
       "</div>"
      ],
      "text/plain": [
       "                                             taxi_id  \\\n",
       "0  17b5eecbb0769978354bdbe06cafb87b02f04e5f7bb96b...   \n",
       "1  17b5eecbb0769978354bdbe06cafb87b02f04e5f7bb96b...   \n",
       "2  17b5eecbb0769978354bdbe06cafb87b02f04e5f7bb96b...   \n",
       "3  17b5eecbb0769978354bdbe06cafb87b02f04e5f7bb96b...   \n",
       "4  1d9c117a4d3e05e04e1fd27b95acf6451c3b1bffb868c1...   \n",
       "\n",
       "       trip_start_timestamp        trip_end_timestamp  prev_break  \n",
       "0 2017-05-01 01:00:00+00:00 2017-05-01 01:15:00+00:00         NaN  \n",
       "1 2017-05-01 02:00:00+00:00 2017-05-01 02:15:00+00:00        45.0  \n",
       "2 2017-05-01 02:30:00+00:00 2017-05-01 02:30:00+00:00        15.0  \n",
       "3 2017-05-01 05:30:00+00:00 2017-05-01 06:00:00+00:00       180.0  \n",
       "4 2017-05-01 01:45:00+00:00 2017-05-01 02:15:00+00:00         NaN  "
      ]
     },
     "metadata": {},
     "output_type": "display_data"
    },
    {
     "data": {
      "application/javascript": [
       "parent.postMessage({\"jupyterEvent\": \"custom.exercise_interaction\", \"data\": {\"outcomeType\": 1, \"valueTowardsCompletion\": 0.3333333333333333, \"interactionType\": 1, \"questionType\": 2, \"questionId\": \"3_BreakTime\", \"learnToolsVersion\": \"0.3.4\", \"failureMessage\": \"\", \"exceptionClass\": \"\", \"trace\": \"\"}}, \"*\")"
      ],
      "text/plain": [
       "<IPython.core.display.Javascript object>"
      ]
     },
     "metadata": {},
     "output_type": "display_data"
    },
    {
     "data": {
      "text/markdown": [
       "<span style=\"color:#33cc33\">Correct</span>"
      ],
      "text/plain": [
       "Correct"
      ]
     },
     "metadata": {},
     "output_type": "display_data"
    }
   ],
   "source": [
    "# Fill in the blanks below\n",
    "break_time_query = \"\"\"\n",
    "                   SELECT taxi_id,\n",
    "                       trip_start_timestamp,\n",
    "                       trip_end_timestamp,\n",
    "                       TIMESTAMP_DIFF(\n",
    "                           trip_start_timestamp, \n",
    "                           LAG(trip_end_timestamp, 1)\n",
    "                               OVER (\n",
    "                                    PARTITION BY taxi_id \n",
    "                                    ORDER BY trip_start_timestamp), \n",
    "                           MINUTE) as prev_break\n",
    "                   FROM `bigquery-public-data.chicago_taxi_trips.taxi_trips`\n",
    "                   WHERE DATE(trip_start_timestamp) = '2017-05-01' \n",
    "                   \"\"\"\n",
    "\n",
    "# Check your answer\n",
    "q_3.check()"
   ]
  },
  {
   "cell_type": "code",
   "execution_count": 8,
   "id": "35fda31c",
   "metadata": {
    "execution": {
     "iopub.execute_input": "2022-09-26T23:51:32.825581Z",
     "iopub.status.busy": "2022-09-26T23:51:32.825197Z",
     "iopub.status.idle": "2022-09-26T23:51:32.839566Z",
     "shell.execute_reply": "2022-09-26T23:51:32.838389Z"
    },
    "papermill": {
     "duration": 0.025172,
     "end_time": "2022-09-26T23:51:32.842044",
     "exception": false,
     "start_time": "2022-09-26T23:51:32.816872",
     "status": "completed"
    },
    "tags": []
   },
   "outputs": [
    {
     "data": {
      "application/javascript": [
       "parent.postMessage({\"jupyterEvent\": \"custom.exercise_interaction\", \"data\": {\"interactionType\": 2, \"questionType\": 2, \"questionId\": \"3_BreakTime\", \"learnToolsVersion\": \"0.3.4\", \"valueTowardsCompletion\": 0.0, \"failureMessage\": \"\", \"exceptionClass\": \"\", \"trace\": \"\", \"outcomeType\": 4}}, \"*\")"
      ],
      "text/plain": [
       "<IPython.core.display.Javascript object>"
      ]
     },
     "metadata": {},
     "output_type": "display_data"
    },
    {
     "data": {
      "text/markdown": [
       "<span style=\"color:#3366cc\">Hint:</span> The `TIMESTAMP_DIFF()` function takes three arguments, where the first (`trip_start_timestamp`) and the last (`MINUTE`) are provided for you.  This function provides the time difference (in minutes) of the timestamps in the first two arguments. You need only fill in the second argument, which should use the **LAG()** function to pull the timestamp corresponding to the end of the previous trip (for the same `taxi_id`)."
      ],
      "text/plain": [
       "Hint: The `TIMESTAMP_DIFF()` function takes three arguments, where the first (`trip_start_timestamp`) and the last (`MINUTE`) are provided for you.  This function provides the time difference (in minutes) of the timestamps in the first two arguments. You need only fill in the second argument, which should use the **LAG()** function to pull the timestamp corresponding to the end of the previous trip (for the same `taxi_id`)."
      ]
     },
     "metadata": {},
     "output_type": "display_data"
    },
    {
     "data": {
      "application/javascript": [
       "parent.postMessage({\"jupyterEvent\": \"custom.exercise_interaction\", \"data\": {\"interactionType\": 3, \"questionType\": 2, \"questionId\": \"3_BreakTime\", \"learnToolsVersion\": \"0.3.4\", \"valueTowardsCompletion\": 0.0, \"failureMessage\": \"\", \"exceptionClass\": \"\", \"trace\": \"\", \"outcomeType\": 4}}, \"*\")"
      ],
      "text/plain": [
       "<IPython.core.display.Javascript object>"
      ]
     },
     "metadata": {},
     "output_type": "display_data"
    },
    {
     "data": {
      "text/markdown": [
       "<span style=\"color:#33cc99\">Solution:</span> \n",
       "```python\n",
       "\n",
       "break_time_query = \"\"\"\n",
       "                   SELECT taxi_id,\n",
       "                       trip_start_timestamp,\n",
       "                       trip_end_timestamp,\n",
       "                       TIMESTAMP_DIFF(\n",
       "                           trip_start_timestamp, \n",
       "                           LAG(trip_end_timestamp, 1) OVER (PARTITION BY taxi_id ORDER BY trip_start_timestamp), \n",
       "                           MINUTE) as prev_break\n",
       "                   FROM `bigquery-public-data.chicago_taxi_trips.taxi_trips`\n",
       "                   WHERE DATE(trip_start_timestamp) = '2017-05-01' \n",
       "                   \"\"\"\n",
       "\n",
       "break_time_result = client.query(break_time_query).result().to_dataframe()\n",
       "\n",
       "```"
      ],
      "text/plain": [
       "Solution: \n",
       "```python\n",
       "\n",
       "break_time_query = \"\"\"\n",
       "                   SELECT taxi_id,\n",
       "                       trip_start_timestamp,\n",
       "                       trip_end_timestamp,\n",
       "                       TIMESTAMP_DIFF(\n",
       "                           trip_start_timestamp, \n",
       "                           LAG(trip_end_timestamp, 1) OVER (PARTITION BY taxi_id ORDER BY trip_start_timestamp), \n",
       "                           MINUTE) as prev_break\n",
       "                   FROM `bigquery-public-data.chicago_taxi_trips.taxi_trips`\n",
       "                   WHERE DATE(trip_start_timestamp) = '2017-05-01' \n",
       "                   \"\"\"\n",
       "\n",
       "break_time_result = client.query(break_time_query).result().to_dataframe()\n",
       "\n",
       "```"
      ]
     },
     "metadata": {},
     "output_type": "display_data"
    }
   ],
   "source": [
    "# Lines below will give you a hint or solution code\n",
    "q_3.hint()\n",
    "q_3.solution()"
   ]
  },
  {
   "cell_type": "markdown",
   "id": "b3265eae",
   "metadata": {
    "papermill": {
     "duration": 0.007018,
     "end_time": "2022-09-26T23:51:32.856560",
     "exception": false,
     "start_time": "2022-09-26T23:51:32.849542",
     "status": "completed"
    },
    "tags": []
   },
   "source": [
    "# Keep going\n",
    "\n",
    "Move on to learn how to query **[nested and repeated data](https://www.kaggle.com/alexisbcook/nested-and-repeated-data)**."
   ]
  },
  {
   "cell_type": "markdown",
   "id": "800bdef0",
   "metadata": {
    "papermill": {
     "duration": 0.007115,
     "end_time": "2022-09-26T23:51:32.870881",
     "exception": false,
     "start_time": "2022-09-26T23:51:32.863766",
     "status": "completed"
    },
    "tags": []
   },
   "source": [
    "---\n",
    "\n",
    "\n",
    "\n",
    "\n",
    "*Have questions or comments? Visit the [course discussion forum](https://www.kaggle.com/learn/advanced-sql/discussion) to chat with other learners.*"
   ]
  }
 ],
 "metadata": {
  "kernelspec": {
   "display_name": "Python 3",
   "language": "python",
   "name": "python3"
  },
  "language_info": {
   "codemirror_mode": {
    "name": "ipython",
    "version": 3
   },
   "file_extension": ".py",
   "mimetype": "text/x-python",
   "name": "python",
   "nbconvert_exporter": "python",
   "pygments_lexer": "ipython3",
   "version": "3.7.12"
  },
  "papermill": {
   "default_parameters": {},
   "duration": 55.369179,
   "end_time": "2022-09-26T23:51:36.243734",
   "environment_variables": {},
   "exception": null,
   "input_path": "__notebook__.ipynb",
   "output_path": "__notebook__.ipynb",
   "parameters": {},
   "start_time": "2022-09-26T23:50:40.874555",
   "version": "2.3.4"
  }
 },
 "nbformat": 4,
 "nbformat_minor": 5
}
